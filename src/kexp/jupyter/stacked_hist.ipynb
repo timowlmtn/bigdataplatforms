{
 "cells": [
  {
   "cell_type": "code",
   "execution_count": 16,
   "metadata": {
    "collapsed": true,
    "ExecuteTime": {
     "start_time": "2023-12-30T12:04:31.690916Z",
     "end_time": "2023-12-30T12:04:31.693231Z"
    }
   },
   "outputs": [
    {
     "name": "stdout",
     "output_type": "stream",
     "text": [
      "[6.20632823 8.52097132 2.20606759 4.24031933 3.38870214]\n"
     ]
    },
    {
     "name": "stderr",
     "output_type": "stream",
     "text": [
      "/var/folders/yb/bpn5r9sd25x8hqqldtbxddg80000gn/T/ipykernel_52930/2199629468.py:5: MatplotlibDeprecationWarning: The seaborn styles shipped by Matplotlib are deprecated since 3.6, as they no longer correspond to the styles shipped by seaborn. However, they will remain available as 'seaborn-v0_8-<style>'. Alternatively, directly use the seaborn API instead.\n",
      "  plt.style.use('seaborn')\n"
     ]
    }
   ],
   "source": [
    "import numpy as np\n",
    "import matplotlib.pyplot as plt\n",
    "import pandas as pd\n",
    "\n",
    "plt.style.use('seaborn')\n",
    "X = np.arange(5) + 1\n",
    "Y1 = np.array([0.5, 0.5, 0.75, 0.5, 0.5])\n",
    "Y2 = np.random.random(5)*10\n",
    "print(Y2)"
   ]
  },
  {
   "cell_type": "code",
   "execution_count": 37,
   "outputs": [
    {
     "data": {
      "text/plain": "      WEEK_NUMBER  WEEK_NUMBER_LIVE_SHOW                              ARTIST  \\\n0               1                      1                          TEKE::TEKE   \n1               1                      4                Ibibio Sound Machine   \n2               1                      7    King Gizzard & the Lizard Wizard   \n3               1                      7  King Gizzard and the Lizard Wizard   \n4               1                      8               Amyl and The Sniffers   \n...           ...                    ...                                 ...   \n1752           53                     34                       Kassa Overall   \n1753           53                     46                        Spirit Award   \n1754           53                     47              Black Belt Eagle Scout   \n1755           53                     50                      The Budos Band   \n1756           53                     51                  The Mountain Goats   \n\n      PLAY_COUNT  PLAY_COUNT_BEFORE  PLAY_COUNT_AFTER  \n0              5                  5                 0  \n1              4                  4                 0  \n2              2                  2                 0  \n3              1                  1                 0  \n4              2                  2                 0  \n...          ...                ...               ...  \n1752           1                  0                 1  \n1753           2                  0                 2  \n1754           1                  0                 1  \n1755           4                  0                 4  \n1756           1                  0                 1  \n\n[1757 rows x 6 columns]",
      "text/html": "<div>\n<style scoped>\n    .dataframe tbody tr th:only-of-type {\n        vertical-align: middle;\n    }\n\n    .dataframe tbody tr th {\n        vertical-align: top;\n    }\n\n    .dataframe thead th {\n        text-align: right;\n    }\n</style>\n<table border=\"1\" class=\"dataframe\">\n  <thead>\n    <tr style=\"text-align: right;\">\n      <th></th>\n      <th>WEEK_NUMBER</th>\n      <th>WEEK_NUMBER_LIVE_SHOW</th>\n      <th>ARTIST</th>\n      <th>PLAY_COUNT</th>\n      <th>PLAY_COUNT_BEFORE</th>\n      <th>PLAY_COUNT_AFTER</th>\n    </tr>\n  </thead>\n  <tbody>\n    <tr>\n      <th>0</th>\n      <td>1</td>\n      <td>1</td>\n      <td>TEKE::TEKE</td>\n      <td>5</td>\n      <td>5</td>\n      <td>0</td>\n    </tr>\n    <tr>\n      <th>1</th>\n      <td>1</td>\n      <td>4</td>\n      <td>Ibibio Sound Machine</td>\n      <td>4</td>\n      <td>4</td>\n      <td>0</td>\n    </tr>\n    <tr>\n      <th>2</th>\n      <td>1</td>\n      <td>7</td>\n      <td>King Gizzard &amp; the Lizard Wizard</td>\n      <td>2</td>\n      <td>2</td>\n      <td>0</td>\n    </tr>\n    <tr>\n      <th>3</th>\n      <td>1</td>\n      <td>7</td>\n      <td>King Gizzard and the Lizard Wizard</td>\n      <td>1</td>\n      <td>1</td>\n      <td>0</td>\n    </tr>\n    <tr>\n      <th>4</th>\n      <td>1</td>\n      <td>8</td>\n      <td>Amyl and The Sniffers</td>\n      <td>2</td>\n      <td>2</td>\n      <td>0</td>\n    </tr>\n    <tr>\n      <th>...</th>\n      <td>...</td>\n      <td>...</td>\n      <td>...</td>\n      <td>...</td>\n      <td>...</td>\n      <td>...</td>\n    </tr>\n    <tr>\n      <th>1752</th>\n      <td>53</td>\n      <td>34</td>\n      <td>Kassa Overall</td>\n      <td>1</td>\n      <td>0</td>\n      <td>1</td>\n    </tr>\n    <tr>\n      <th>1753</th>\n      <td>53</td>\n      <td>46</td>\n      <td>Spirit Award</td>\n      <td>2</td>\n      <td>0</td>\n      <td>2</td>\n    </tr>\n    <tr>\n      <th>1754</th>\n      <td>53</td>\n      <td>47</td>\n      <td>Black Belt Eagle Scout</td>\n      <td>1</td>\n      <td>0</td>\n      <td>1</td>\n    </tr>\n    <tr>\n      <th>1755</th>\n      <td>53</td>\n      <td>50</td>\n      <td>The Budos Band</td>\n      <td>4</td>\n      <td>0</td>\n      <td>4</td>\n    </tr>\n    <tr>\n      <th>1756</th>\n      <td>53</td>\n      <td>51</td>\n      <td>The Mountain Goats</td>\n      <td>1</td>\n      <td>0</td>\n      <td>1</td>\n    </tr>\n  </tbody>\n</table>\n<p>1757 rows × 6 columns</p>\n</div>"
     },
     "execution_count": 37,
     "metadata": {},
     "output_type": "execute_result"
    }
   ],
   "source": [
    "live_on_kexp = pd.read_csv('live_on_kexp_2023.csv')\n",
    "live_on_kexp"
   ],
   "metadata": {
    "collapsed": false,
    "ExecuteTime": {
     "start_time": "2023-12-30T12:52:28.754158Z",
     "end_time": "2023-12-30T12:52:28.766546Z"
    }
   }
  },
  {
   "cell_type": "code",
   "execution_count": 39,
   "outputs": [],
   "source": [
    "X = live_on_kexp[\"WEEK_NUMBER\"]\n",
    "Y1 = live_on_kexp[\"PLAY_COUNT_BEFORE\"]\n",
    "Y2 = live_on_kexp[\"PLAY_COUNT_AFTER\"]\n"
   ],
   "metadata": {
    "collapsed": false,
    "ExecuteTime": {
     "start_time": "2023-12-30T12:52:48.412658Z",
     "end_time": "2023-12-30T12:52:48.413842Z"
    }
   }
  },
  {
   "cell_type": "code",
   "execution_count": 40,
   "outputs": [
    {
     "data": {
      "text/plain": "<Figure size 800x550 with 1 Axes>",
      "image/png": "[encoded data removed]"
     },
     "metadata": {},
     "output_type": "display_data"
    }
   ],
   "source": [
    "ax = plt.subplot()\n",
    "ax.bar(X, Y1, label='Y1')\n",
    "ax.bar(X, Y2, bottom=Y1, label='Y2')\n",
    "plt.legend()\n",
    "plt.show()"
   ],
   "metadata": {
    "collapsed": false,
    "ExecuteTime": {
     "start_time": "2023-12-30T12:52:49.277827Z",
     "end_time": "2023-12-30T12:52:51.343302Z"
    }
   }
  },
  {
   "cell_type": "code",
   "execution_count": 41,
   "outputs": [
    {
     "data": {
      "text/plain": "0        1\n1        1\n2        1\n3        1\n4        1\n        ..\n1752    53\n1753    53\n1754    53\n1755    53\n1756    53\nName: WEEK_NUMBER, Length: 1757, dtype: int64"
     },
     "execution_count": 41,
     "metadata": {},
     "output_type": "execute_result"
    }
   ],
   "source": [
    "X"
   ],
   "metadata": {
    "collapsed": false,
    "ExecuteTime": {
     "start_time": "2023-12-30T12:52:51.677358Z",
     "end_time": "2023-12-30T12:52:51.685385Z"
    }
   }
  },
  {
   "cell_type": "code",
   "execution_count": 12,
   "outputs": [
    {
     "data": {
      "text/plain": "array([0.5 , 0.5 , 0.75, 0.5 , 0.5 ])"
     },
     "execution_count": 12,
     "metadata": {},
     "output_type": "execute_result"
    }
   ],
   "source": [
    "Y1"
   ],
   "metadata": {
    "collapsed": false,
    "ExecuteTime": {
     "start_time": "2023-12-30T11:17:06.936324Z",
     "end_time": "2023-12-30T11:17:06.939914Z"
    }
   }
  },
  {
   "cell_type": "code",
   "execution_count": 13,
   "outputs": [
    {
     "data": {
      "text/plain": "array([0.00224425, 0.00749636, 0.0082752 , 0.00175114, 0.00803648])"
     },
     "execution_count": 13,
     "metadata": {},
     "output_type": "execute_result"
    }
   ],
   "source": [
    "Y2"
   ],
   "metadata": {
    "collapsed": false,
    "ExecuteTime": {
     "start_time": "2023-12-30T11:17:07.136797Z",
     "end_time": "2023-12-30T11:17:07.142740Z"
    }
   }
  },
  {
   "cell_type": "code",
   "execution_count": null,
   "outputs": [],
   "source": [],
   "metadata": {
    "collapsed": false
   }
  }
 ],
 "metadata": {
  "kernelspec": {
   "display_name": "Python 3",
   "language": "python",
   "name": "python3"
  },
  "language_info": {
   "codemirror_mode": {
    "name": "ipython",
    "version": 2
   },
   "file_extension": ".py",
   "mimetype": "text/x-python",
   "name": "python",
   "nbconvert_exporter": "python",
   "pygments_lexer": "ipython2",
   "version": "2.7.6"
  }
 },
 "nbformat": 4,
 "nbformat_minor": 0
}
