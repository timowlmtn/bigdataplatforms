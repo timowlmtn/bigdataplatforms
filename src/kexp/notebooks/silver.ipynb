{
 "cells": [
  {
   "cell_type": "code",
   "execution_count": 3,
   "metadata": {
    "collapsed": true
   },
   "outputs": [],
   "source": [
    "import spark_catalog"
   ]
  },
  {
   "cell_type": "code",
   "execution_count": 5,
   "outputs": [
    {
     "name": "stdout",
     "output_type": "stream",
     "text": [
      ":: loading settings :: url = jar:file:/Users/timburns/Documents/PythonProjects/.pyenv/kexp/lib/python3.9/site-packages/pyspark/jars/ivy-2.5.1.jar!/org/apache/ivy/core/settings/ivysettings.xml\n"
     ]
    },
    {
     "name": "stderr",
     "output_type": "stream",
     "text": [
      "Ivy Default Cache set to: /Users/timburns/.ivy2/cache\n",
      "The jars for the packages stored in: /Users/timburns/.ivy2/jars\n",
      "io.delta#delta-core_2.12 added as a dependency\n",
      ":: resolving dependencies :: org.apache.spark#spark-submit-parent-349dea3e-9854-402c-a9e9-7100966c693e;1.0\n",
      "\tconfs: [default]\n",
      "\tfound io.delta#delta-core_2.12;2.3.0 in central\n",
      "\tfound io.delta#delta-storage;2.3.0 in central\n",
      "\tfound org.antlr#antlr4-runtime;4.8 in central\n",
      ":: resolution report :: resolve 180ms :: artifacts dl 6ms\n",
      "\t:: modules in use:\n",
      "\tio.delta#delta-core_2.12;2.3.0 from central in [default]\n",
      "\tio.delta#delta-storage;2.3.0 from central in [default]\n",
      "\torg.antlr#antlr4-runtime;4.8 from central in [default]\n",
      "\t---------------------------------------------------------------------\n",
      "\t|                  |            modules            ||   artifacts   |\n",
      "\t|       conf       | number| search|dwnlded|evicted|| number|dwnlded|\n",
      "\t---------------------------------------------------------------------\n",
      "\t|      default     |   3   |   0   |   0   |   0   ||   3   |   0   |\n",
      "\t---------------------------------------------------------------------\n",
      ":: retrieving :: org.apache.spark#spark-submit-parent-349dea3e-9854-402c-a9e9-7100966c693e\n",
      "\tconfs: [default]\n",
      "\t0 artifacts copied, 3 already retrieved (0kB/4ms)\n"
     ]
    },
    {
     "name": "stdout",
     "output_type": "stream",
     "text": [
      "23/04/11 14:08:01 WARN NativeCodeLoader: Unable to load native-hadoop library for your platform... using builtin-java classes where applicable\n"
     ]
    },
    {
     "name": "stderr",
     "output_type": "stream",
     "text": [
      "Setting default log level to \"WARN\".\n",
      "To adjust logging level use sc.setLogLevel(newLevel). For SparkR, use setLogLevel(newLevel).\n"
     ]
    },
    {
     "name": "stdout",
     "output_type": "stream",
     "text": [
      "23/04/11 14:08:02 WARN Utils: Service 'SparkUI' could not bind on port 4040. Attempting port 4041.\n"
     ]
    },
    {
     "name": "stderr",
     "output_type": "stream",
     "text": [
      "/Users/timburns/Documents/PythonProjects/.pyenv/kexp/lib/python3.9/site-packages/pyspark/sql/context.py:112: FutureWarning: Deprecated in 3.0.0. Use SparkSession.builder.getOrCreate() instead.\n",
      "  warnings.warn(\n"
     ]
    }
   ],
   "source": [
    "catalog = spark_catalog.SparkCatalog(source_name=\"kexp\", lake_location=\"../../../data/spark/kexp\")"
   ],
   "metadata": {
    "collapsed": false
   }
  },
  {
   "cell_type": "code",
   "execution_count": 6,
   "outputs": [],
   "source": [
    "artist_df = catalog.get_data_frame(\"silver\", \"ARTIST\")"
   ],
   "metadata": {
    "collapsed": false
   }
  },
  {
   "cell_type": "code",
   "execution_count": 7,
   "outputs": [
    {
     "name": "stdout",
     "output_type": "stream",
     "text": [
      "23/04/11 14:08:14 WARN package: Truncated the string representation of a plan since it was too large. This behavior can be adjusted by setting 'spark.sql.debug.maxToStringFields'.\n"
     ]
    },
    {
     "name": "stderr",
     "output_type": "stream",
     "text": [
      "[Stage 9:>                                                          (0 + 1) / 1]\r"
     ]
    },
    {
     "name": "stdout",
     "output_type": "stream",
     "text": [
      "+--------------------+--------------------+--------------+-------------------+\n",
      "|                  id|              artist|catalog_source|  catalog_timestamp|\n",
      "+--------------------+--------------------+--------------+-------------------+\n",
      "|25302723-b24f-4d0...|     $wingin’ Utter$|          kexp|2023-04-11 09:36:36|\n",
      "|5e29d25a-ba6f-402...|                 310|          kexp|2023-04-11 09:36:36|\n",
      "|3e63ef4f-93c5-48a...|            38 Spesh|          kexp|2023-04-11 09:36:36|\n",
      "|07832b42-8826-4ab...|               6LACK|          kexp|2023-04-11 09:36:36|\n",
      "|9d7c95f4-9575-4b7...|           79rs Gang|          kexp|2023-04-11 09:36:36|\n",
      "|030c731f-6b7c-407...|            8fatfat8|          kexp|2023-04-11 09:36:36|\n",
      "|030c731f-6b7c-407...|            8fatfat8|          kexp|2023-04-11 09:36:36|\n",
      "|48513f24-37d5-423...|9th Wonder feat. ...|          kexp|2023-04-11 09:36:36|\n",
      "|6b1acf37-0b3b-4cc...|9th Wonder feat. ...|          kexp|2023-04-11 09:36:36|\n",
      "|6705519c-4f9b-4e5...|9th Wonder feat. ...|          kexp|2023-04-11 09:36:36|\n",
      "|d3253aba-df21-4dc...|9umba, Toss & Mdo...|          kexp|2023-04-11 09:36:36|\n",
      "|13bcba23-2fd2-4b7...|9umba, Toss & Mdo...|          kexp|2023-04-11 09:36:36|\n",
      "|936c3773-6467-486...|9umba, Toss & Mdo...|          kexp|2023-04-11 09:36:36|\n",
      "|7a7b5cfe-24e0-42f...|9umba, Toss & Mdo...|          kexp|2023-04-11 09:36:36|\n",
      "|40b8dcd1-6efd-49f...|9umba, Toss & Mdo...|          kexp|2023-04-11 09:36:36|\n",
      "|8d3dd2fe-0aac-4a3...|9umba, Toss & Mdo...|          kexp|2023-04-11 09:36:36|\n",
      "|e701b534-eea5-4b6...|9umba, Toss & Mdo...|          kexp|2023-04-11 09:36:36|\n",
      "|7c745985-26bf-444...|9umba, Toss & Mdo...|          kexp|2023-04-11 09:36:36|\n",
      "|c2f465fc-1f81-4d2...|             A House|          kexp|2023-04-11 09:36:36|\n",
      "|9689aa5a-4471-4fb...|A Tribe Called Quest|          kexp|2023-04-11 09:36:36|\n",
      "+--------------------+--------------------+--------------+-------------------+\n",
      "only showing top 20 rows\n",
      "\n"
     ]
    },
    {
     "name": "stderr",
     "output_type": "stream",
     "text": [
      "                                                                                \r"
     ]
    }
   ],
   "source": [
    "artist_df.show()"
   ],
   "metadata": {
    "collapsed": false
   }
  },
  {
   "cell_type": "code",
   "execution_count": 9,
   "outputs": [],
   "source": [
    "playlist_df = catalog.get_data_frame(\"bronze\", \"KEXP_PLAYLIST\")"
   ],
   "metadata": {
    "collapsed": false
   }
  },
  {
   "cell_type": "code",
   "execution_count": 15,
   "outputs": [
    {
     "name": "stdout",
     "output_type": "stream",
     "text": [
      "['airdate', 'album', 'artist', 'artist_ids', 'comment', 'id', 'image_uri', 'is_live', 'is_local', 'is_request', 'label_ids', 'labels', 'play_type', 'recording_id', 'release_date', 'release_group_id', 'release_id', 'rotation_status', 'show', 'show_uri', 'song', 'thumbnail_uri', 'track_id', 'uri']\n"
     ]
    }
   ],
   "source": [
    "print(playlist_df.columns)"
   ],
   "metadata": {
    "collapsed": false
   }
  },
  {
   "cell_type": "code",
   "execution_count": 16,
   "outputs": [
    {
     "name": "stdout",
     "output_type": "stream",
     "text": [
      "root\n",
      " |-- airdate: timestamp (nullable = true)\n",
      " |-- album: string (nullable = true)\n",
      " |-- artist: string (nullable = true)\n",
      " |-- artist_ids: array (nullable = true)\n",
      " |    |-- element: string (containsNull = true)\n",
      " |-- comment: string (nullable = true)\n",
      " |-- id: integer (nullable = true)\n",
      " |-- image_uri: string (nullable = true)\n",
      " |-- is_live: boolean (nullable = true)\n",
      " |-- is_local: boolean (nullable = true)\n",
      " |-- is_request: boolean (nullable = true)\n",
      " |-- label_ids: array (nullable = true)\n",
      " |    |-- element: string (containsNull = true)\n",
      " |-- labels: array (nullable = true)\n",
      " |    |-- element: string (containsNull = true)\n",
      " |-- play_type: string (nullable = true)\n",
      " |-- recording_id: integer (nullable = true)\n",
      " |-- release_date: date (nullable = true)\n",
      " |-- release_group_id: integer (nullable = true)\n",
      " |-- release_id: integer (nullable = true)\n",
      " |-- rotation_status: string (nullable = true)\n",
      " |-- show: integer (nullable = true)\n",
      " |-- show_uri: string (nullable = true)\n",
      " |-- song: string (nullable = true)\n",
      " |-- thumbnail_uri: string (nullable = true)\n",
      " |-- track_id: integer (nullable = true)\n",
      " |-- uri: string (nullable = true)\n",
      "\n"
     ]
    }
   ],
   "source": [
    "playlist_df.printSchema()"
   ],
   "metadata": {
    "collapsed": false
   }
  },
  {
   "cell_type": "code",
   "execution_count": 17,
   "outputs": [],
   "source": [
    "show_df = catalog.get_data_frame(\"bronze\", \"KEXP_SHOW\")"
   ],
   "metadata": {
    "collapsed": false
   }
  },
  {
   "cell_type": "code",
   "execution_count": 18,
   "outputs": [
    {
     "name": "stdout",
     "output_type": "stream",
     "text": [
      "['host_names', 'host_uris', 'hosts', 'id', 'image_uri', 'program', 'program_name', 'program_tags', 'program_uri', 'start_time', 'tagline', 'uri']\n"
     ]
    }
   ],
   "source": [
    "print(show_df.columns)"
   ],
   "metadata": {
    "collapsed": false
   }
  },
  {
   "cell_type": "code",
   "execution_count": 19,
   "outputs": [
    {
     "name": "stdout",
     "output_type": "stream",
     "text": [
      "root\n",
      " |-- host_names: array (nullable = true)\n",
      " |    |-- element: string (containsNull = true)\n",
      " |-- host_uris: array (nullable = true)\n",
      " |    |-- element: string (containsNull = true)\n",
      " |-- hosts: array (nullable = true)\n",
      " |    |-- element: string (containsNull = true)\n",
      " |-- id: integer (nullable = true)\n",
      " |-- image_uri: string (nullable = true)\n",
      " |-- program: integer (nullable = true)\n",
      " |-- program_name: string (nullable = true)\n",
      " |-- program_tags: string (nullable = true)\n",
      " |-- program_uri: string (nullable = true)\n",
      " |-- start_time: timestamp (nullable = true)\n",
      " |-- tagline: string (nullable = true)\n",
      " |-- uri: string (nullable = true)\n",
      "\n"
     ]
    }
   ],
   "source": [
    "show_df.printSchema()"
   ],
   "metadata": {
    "collapsed": false
   }
  },
  {
   "cell_type": "code",
   "execution_count": 20,
   "outputs": [
    {
     "name": "stdout",
     "output_type": "stream",
     "text": [
      "+-----------------+--------------------+-----+-----+--------------------+-------+--------------------+--------------------+--------------------+-------------------+--------------------+--------------------+\n",
      "|       host_names|           host_uris|hosts|   id|           image_uri|program|        program_name|        program_tags|         program_uri|         start_time|             tagline|                 uri|\n",
      "+-----------------+--------------------+-----+-----+--------------------+-------+--------------------+--------------------+--------------------+-------------------+--------------------+--------------------+\n",
      "| [John Gilbreath]|[https://api.kexp...| [24]|56662|https://www.kexp....|      4|        Jazz Theatre|                Jazz|https://api.kexp....|2023-04-10 06:00:09|                    |https://api.kexp....|\n",
      "|     [Brian Foss]|[https://api.kexp...|  [3]|56661|https://www.kexp....|     18|         Variety Mix|Rock,Eclectic,Var...|https://api.kexp....|2023-04-10 05:01:15|                    |https://api.kexp....|\n",
      "|    [DJ Sharlese]|[https://api.kexp...| [15]|56660|https://www.kexp....|     34|Mechanical Breakdown|Wave,Synth,Post P...|https://api.kexp....|2023-04-10 03:59:44|                    |https://api.kexp....|\n",
      "|       [Guest DJ]|[https://api.kexp...| [21]|56659|https://www.kexp....|      5|Midnight in a Per...|Eclectic,DJ,Varie...|https://api.kexp....|2023-04-10 03:00:50|NYC-via-Philadelp...|https://api.kexp....|\n",
      "|         [DJ Riz]|[https://api.kexp...| [13]|56658|https://www.kexp....|      3|          Expansions|          Electronic|https://api.kexp....|2023-04-10 00:00:23|Songs of Faith an...|https://api.kexp....|\n",
      "|[Supreme La Rock]|[https://api.kexp...| [86]|56657|https://www.kexp....|     21|         Sunday Soul|Rock,Eclectic,Var...|https://api.kexp....|2023-04-09 21:00:41|Easter Sunday! Hi...|https://api.kexp....|\n",
      "|    [Troy Nelson]|[https://api.kexp...| [43]|56664|https://www.kexp....|     16|    The Morning Show|Rock,Eclectic,Var...|https://api.kexp....|2023-04-10 10:01:43|Welcome to The Mo...|https://api.kexp....|\n",
      "|     [Eva Walker]|[https://api.kexp...| [50]|56666|https://www.kexp....|     14|  The Afternoon Show|Rock,Eclectic,Var...|https://api.kexp....|2023-04-10 16:00:20|It's Moon Day on ...|https://api.kexp....|\n",
      "|  [Cheryl Waters]|[https://api.kexp...|  [4]|56665|https://www.kexp....|     15|     The Midday Show|Rock,Eclectic,Var...|https://api.kexp....|2023-04-10 13:00:06|                    |https://api.kexp....|\n",
      "+-----------------+--------------------+-----+-----+--------------------+-------+--------------------+--------------------+--------------------+-------------------+--------------------+--------------------+\n",
      "\n"
     ]
    }
   ],
   "source": [
    "show_df.show()"
   ],
   "metadata": {
    "collapsed": false
   }
  },
  {
   "cell_type": "code",
   "execution_count": null,
   "outputs": [],
   "source": [],
   "metadata": {
    "collapsed": false
   }
  }
 ],
 "metadata": {
  "kernelspec": {
   "display_name": "Python 3",
   "language": "python",
   "name": "python3"
  },
  "language_info": {
   "codemirror_mode": {
    "name": "ipython",
    "version": 2
   },
   "file_extension": ".py",
   "mimetype": "text/x-python",
   "name": "python",
   "nbconvert_exporter": "python",
   "pygments_lexer": "ipython2",
   "version": "2.7.6"
  }
 },
 "nbformat": 4,
 "nbformat_minor": 0
}
