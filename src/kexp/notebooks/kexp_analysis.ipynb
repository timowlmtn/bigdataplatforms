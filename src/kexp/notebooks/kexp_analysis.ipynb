{
 "cells": [
  {
   "cell_type": "code",
   "execution_count": 8,
   "metadata": {
    "collapsed": true
   },
   "outputs": [],
   "source": [
    "import spark_catalog\n",
    "import duckdb"
   ]
  },
  {
   "cell_type": "code",
   "execution_count": 9,
   "outputs": [],
   "source": [
    "catalog = spark_catalog.SparkCatalog(app_name=\"kexp\", lake_location=\"../../../data/spark/kexp\")"
   ],
   "metadata": {
    "collapsed": false
   }
  },
  {
   "cell_type": "code",
   "execution_count": 10,
   "outputs": [],
   "source": [
    "kexp_playlist = catalog.get_data_frame(\"bronze\", \"KEXP_PLAYLIST\")"
   ],
   "metadata": {
    "collapsed": false
   }
  },
  {
   "cell_type": "code",
   "execution_count": 11,
   "outputs": [
    {
     "name": "stdout",
     "output_type": "stream",
     "text": [
      "23/04/10 12:43:15 WARN DeltaLog: Change in the table id detected while updating snapshot. \n",
      "Previous snapshot = Snapshot(path=file:/Users/timburns/Documents/PythonProjects/bigdataplatforms/data/spark/kexp/bronze/KEXP_PLAYLIST/_delta_log, version=1, metadata=Metadata(a3805b47-51d9-439d-8e14-902a2005a717,null,null,Format(parquet,Map()),{\"type\":\"struct\",\"fields\":[{\"name\":\"airdate\",\"type\":\"timestamp\",\"nullable\":true,\"metadata\":{}},{\"name\":\"album\",\"type\":\"string\",\"nullable\":true,\"metadata\":{}},{\"name\":\"artist\",\"type\":\"string\",\"nullable\":true,\"metadata\":{}},{\"name\":\"artist_ids\",\"type\":{\"type\":\"array\",\"elementType\":\"string\",\"containsNull\":true},\"nullable\":true,\"metadata\":{}},{\"name\":\"comment\",\"type\":\"string\",\"nullable\":true,\"metadata\":{}},{\"name\":\"id\",\"type\":\"integer\",\"nullable\":true,\"metadata\":{}},{\"name\":\"image_uri\",\"type\":\"string\",\"nullable\":true,\"metadata\":{}},{\"name\":\"is_live\",\"type\":\"boolean\",\"nullable\":true,\"metadata\":{}},{\"name\":\"is_local\",\"type\":\"boolean\",\"nullable\":true,\"metadata\":{}},{\"name\":\"is_request\",\"type\":\"boolean\",\"nullable\":true,\"metadata\":{}},{\"name\":\"label_ids\",\"type\":{\"type\":\"array\",\"elementType\":\"string\",\"containsNull\":true},\"nullable\":true,\"metadata\":{}},{\"name\":\"labels\",\"type\":{\"type\":\"array\",\"elementType\":\"string\",\"containsNull\":true},\"nullable\":true,\"metadata\":{}},{\"name\":\"play_type\",\"type\":\"string\",\"nullable\":true,\"metadata\":{}},{\"name\":\"recording_id\",\"type\":\"integer\",\"nullable\":true,\"metadata\":{}},{\"name\":\"release_date\",\"type\":\"date\",\"nullable\":true,\"metadata\":{}},{\"name\":\"release_group_id\",\"type\":\"integer\",\"nullable\":true,\"metadata\":{}},{\"name\":\"release_id\",\"type\":\"integer\",\"nullable\":true,\"metadata\":{}},{\"name\":\"rotation_status\",\"type\":\"string\",\"nullable\":true,\"metadata\":{}},{\"name\":\"show\",\"type\":\"integer\",\"nullable\":true,\"metadata\":{}},{\"name\":\"show_uri\",\"type\":\"string\",\"nullable\":true,\"metadata\":{}},{\"name\":\"song\",\"type\":\"string\",\"nullable\":true,\"metadata\":{}},{\"name\":\"thumbnail_uri\",\"type\":\"string\",\"nullable\":true,\"metadata\":{}},{\"name\":\"track_id\",\"type\":\"integer\",\"nullable\":true,\"metadata\":{}},{\"name\":\"uri\",\"type\":\"string\",\"nullable\":true,\"metadata\":{}}]},List(),Map(),Some(1681142770804)), logSegment=LogSegment(file:/Users/timburns/Documents/PythonProjects/bigdataplatforms/data/spark/kexp/bronze/KEXP_PLAYLIST/_delta_log,1,WrappedArray(DeprecatedRawLocalFileStatus{path=file:/Users/timburns/Documents/PythonProjects/bigdataplatforms/data/spark/kexp/bronze/KEXP_PLAYLIST/_delta_log/00000000000000000000.json; isDirectory=false; length=4073; replication=1; blocksize=33554432; modification_time=1681142771000; access_time=1681142771000; owner=; group=; permission=rw-rw-rw-; isSymlink=false; hasAcl=false; isEncrypted=false; isErasureCoded=false}, DeprecatedRawLocalFileStatus{path=file:/Users/timburns/Documents/PythonProjects/bigdataplatforms/data/spark/kexp/bronze/KEXP_PLAYLIST/_delta_log/00000000000000000001.json; isDirectory=false; length=1957; replication=1; blocksize=33554432; modification_time=1681142775000; access_time=1681142775000; owner=; group=; permission=rw-rw-rw-; isSymlink=false; hasAcl=false; isEncrypted=false; isErasureCoded=false}),List(),None,1681142775000), checksumOpt=None)\n",
      "New snapshot = Snapshot(path=file:/Users/timburns/Documents/PythonProjects/bigdataplatforms/data/spark/kexp/bronze/KEXP_PLAYLIST/_delta_log, version=28, metadata=Metadata(7440e27a-b2b7-419f-a9d6-e338ad42dbba,null,null,Format(parquet,Map()),{\"type\":\"struct\",\"fields\":[{\"name\":\"airdate\",\"type\":\"timestamp\",\"nullable\":true,\"metadata\":{}},{\"name\":\"album\",\"type\":\"string\",\"nullable\":true,\"metadata\":{}},{\"name\":\"artist\",\"type\":\"string\",\"nullable\":true,\"metadata\":{}},{\"name\":\"artist_ids\",\"type\":{\"type\":\"array\",\"elementType\":\"string\",\"containsNull\":true},\"nullable\":true,\"metadata\":{}},{\"name\":\"comment\",\"type\":\"string\",\"nullable\":true,\"metadata\":{}},{\"name\":\"id\",\"type\":\"integer\",\"nullable\":true,\"metadata\":{}},{\"name\":\"image_uri\",\"type\":\"string\",\"nullable\":true,\"metadata\":{}},{\"name\":\"is_live\",\"type\":\"boolean\",\"nullable\":true,\"metadata\":{}},{\"name\":\"is_local\",\"type\":\"boolean\",\"nullable\":true,\"metadata\":{}},{\"name\":\"is_request\",\"type\":\"boolean\",\"nullable\":true,\"metadata\":{}},{\"name\":\"label_ids\",\"type\":{\"type\":\"array\",\"elementType\":\"string\",\"containsNull\":true},\"nullable\":true,\"metadata\":{}},{\"name\":\"labels\",\"type\":{\"type\":\"array\",\"elementType\":\"string\",\"containsNull\":true},\"nullable\":true,\"metadata\":{}},{\"name\":\"play_type\",\"type\":\"string\",\"nullable\":true,\"metadata\":{}},{\"name\":\"recording_id\",\"type\":\"integer\",\"nullable\":true,\"metadata\":{}},{\"name\":\"release_date\",\"type\":\"date\",\"nullable\":true,\"metadata\":{}},{\"name\":\"release_group_id\",\"type\":\"integer\",\"nullable\":true,\"metadata\":{}},{\"name\":\"release_id\",\"type\":\"integer\",\"nullable\":true,\"metadata\":{}},{\"name\":\"rotation_status\",\"type\":\"string\",\"nullable\":true,\"metadata\":{}},{\"name\":\"show\",\"type\":\"integer\",\"nullable\":true,\"metadata\":{}},{\"name\":\"show_uri\",\"type\":\"string\",\"nullable\":true,\"metadata\":{}},{\"name\":\"song\",\"type\":\"string\",\"nullable\":true,\"metadata\":{}},{\"name\":\"thumbnail_uri\",\"type\":\"string\",\"nullable\":true,\"metadata\":{}},{\"name\":\"track_id\",\"type\":\"integer\",\"nullable\":true,\"metadata\":{}},{\"name\":\"uri\",\"type\":\"string\",\"nullable\":true,\"metadata\":{}}]},List(),Map(),Some(1681144514574)), logSegment=LogSegment(file:/Users/timburns/Documents/PythonProjects/bigdataplatforms/data/spark/kexp/bronze/KEXP_PLAYLIST/_delta_log,28,WrappedArray(DeprecatedRawLocalFileStatus{path=file:/Users/timburns/Documents/PythonProjects/bigdataplatforms/data/spark/kexp/bronze/KEXP_PLAYLIST/_delta_log/00000000000000000021.json; isDirectory=false; length=1957; replication=1; blocksize=33554432; modification_time=1681144614000; access_time=1681144615000; owner=; group=; permission=rw-rw-rw-; isSymlink=false; hasAcl=false; isEncrypted=false; isErasureCoded=false}, DeprecatedRawLocalFileStatus{path=file:/Users/timburns/Documents/PythonProjects/bigdataplatforms/data/spark/kexp/bronze/KEXP_PLAYLIST/_delta_log/00000000000000000022.json; isDirectory=false; length=1958; replication=1; blocksize=33554432; modification_time=1681144618000; access_time=1681144619000; owner=; group=; permission=rw-rw-rw-; isSymlink=false; hasAcl=false; isEncrypted=false; isErasureCoded=false}, DeprecatedRawLocalFileStatus{path=file:/Users/timburns/Documents/PythonProjects/bigdataplatforms/data/spark/kexp/bronze/KEXP_PLAYLIST/_delta_log/00000000000000000023.json; isDirectory=false; length=1981; replication=1; blocksize=33554432; modification_time=1681144623000; access_time=1681144623000; owner=; group=; permission=rw-rw-rw-; isSymlink=false; hasAcl=false; isEncrypted=false; isErasureCoded=false}, DeprecatedRawLocalFileStatus{path=file:/Users/timburns/Documents/PythonProjects/bigdataplatforms/data/spark/kexp/bronze/KEXP_PLAYLIST/_delta_log/00000000000000000024.json; isDirectory=false; length=1883; replication=1; blocksize=33554432; modification_time=1681144627000; access_time=1681144627000; owner=; group=; permission=rw-rw-rw-; isSymlink=false; hasAcl=false; isEncrypted=false; isErasureCoded=false}, DeprecatedRawLocalFileStatus{path=file:/Users/timburns/Documents/PythonProjects/bigdataplatforms/data/spark/kexp/bronze/KEXP_PLAYLIST/_delta_log/00000000000000000025.json; isDirectory=false; length=1506; replication=1; blocksize=33554432; modification_time=1681144631000; access_time=1681144631000; owner=; group=; permission=rw-rw-rw-; isSymlink=false; hasAcl=false; isEncrypted=false; isErasureCoded=false}, DeprecatedRawLocalFileStatus{path=file:/Users/timburns/Documents/PythonProjects/bigdataplatforms/data/spark/kexp/bronze/KEXP_PLAYLIST/_delta_log/00000000000000000026.json; isDirectory=false; length=1995; replication=1; blocksize=33554432; modification_time=1681144635000; access_time=1681144635000; owner=; group=; permission=rw-rw-rw-; isSymlink=false; hasAcl=false; isEncrypted=false; isErasureCoded=false}, DeprecatedRawLocalFileStatus{path=file:/Users/timburns/Documents/PythonProjects/bigdataplatforms/data/spark/kexp/bronze/KEXP_PLAYLIST/_delta_log/00000000000000000027.json; isDirectory=false; length=1943; replication=1; blocksize=33554432; modification_time=1681144639000; access_time=1681144640000; owner=; group=; permission=rw-rw-rw-; isSymlink=false; hasAcl=false; isEncrypted=false; isErasureCoded=false}, DeprecatedRawLocalFileStatus{path=file:/Users/timburns/Documents/PythonProjects/bigdataplatforms/data/spark/kexp/bronze/KEXP_PLAYLIST/_delta_log/00000000000000000028.json; isDirectory=false; length=1749; replication=1; blocksize=33554432; modification_time=1681144644000; access_time=1681144644000; owner=; group=; permission=rw-rw-rw-; isSymlink=false; hasAcl=false; isEncrypted=false; isErasureCoded=false}),WrappedArray(DeprecatedRawLocalFileStatus{path=file:/Users/timburns/Documents/PythonProjects/bigdataplatforms/data/spark/kexp/bronze/KEXP_PLAYLIST/_delta_log/00000000000000000020.checkpoint.parquet; isDirectory=false; length=31636; replication=1; blocksize=33554432; modification_time=1681144610000; access_time=1681144611000; owner=; group=; permission=rw-rw-rw-; isSymlink=false; hasAcl=false; isEncrypted=false; isErasureCoded=false}),Some(20),1681144644000), checksumOpt=None).\n"
     ]
    },
    {
     "name": "stderr",
     "output_type": "stream",
     "text": [
      "                                                                                \r"
     ]
    },
    {
     "name": "stdout",
     "output_type": "stream",
     "text": [
      "+-------------------+--------------------+--------------------+--------------------+--------------------+-------+--------------------+-------+--------+----------+--------------------+--------------------+---------+------------+------------+----------------+----------+---------------+-----+--------------------+--------------------+--------------------+--------+--------------------+\n",
      "|            airdate|               album|              artist|          artist_ids|             comment|     id|           image_uri|is_live|is_local|is_request|           label_ids|              labels|play_type|recording_id|release_date|release_group_id|release_id|rotation_status| show|            show_uri|                song|       thumbnail_uri|track_id|                 uri|\n",
      "+-------------------+--------------------+--------------------+--------------------+--------------------+-------+--------------------+-------+--------+----------+--------------------+--------------------+---------+------------+------------+----------------+----------+---------------+-----+--------------------+--------------------+--------------------+--------+--------------------+\n",
      "|2023-04-10 10:55:43|  Working Men's Club|  Working Men’s Club|[5a6fc9a3-c864-42...|Manchester is alw...|3178567|https://ia902900....|  false|   false|     false|[696ee2f4-c486-4e...|[Heavenly Recordi...|trackplay|        null|  2020-06-05|            null|      null|        Library|56664|https://api.kexp....|             Valleys|https://ia902900....|    null|https://api.kexp....|\n",
      "|2023-04-10 10:53:35|                null|                null|                null|                    |3178566|                    |   null|    null|      null|                null|                null| airbreak|        null|        null|            null|      null|           null|56664|https://api.kexp....|                null|                    |    null|https://api.kexp....|\n",
      "|2023-04-10 10:50:14|          Off Planet|Django Django fea...|[4bfce038-b1a0-4b...|                null|3178565|https://ia904708....|  false|   false|     false|[23450486-837c-46...|     [Because Music]|trackplay|        null|  2023-06-16|            null|      null|            R/N|56664|https://api.kexp....|Don’t Touch That ...|https://ia804708....|    null|https://api.kexp....|\n",
      "|2023-04-10 10:46:32| Destroy Rock & Roll|                Mylo|[a066b730-3809-4b...|Myles MacInnes, a...|3178564|https://ia804700....|  false|   false|     false|[c2bc2c32-3b01-46...|           [RED Ink]|trackplay|        null|  2006-02-07|            null|      null|           null|56664|https://api.kexp....|          In My Arms|https://ia904700....|    null|https://api.kexp....|\n",
      "|2023-04-10 10:41:18|          YoYoYoYoYo|          Spank Rock|[6b55530c-efc2-46...|                null|3178563|https://ia903205....|  false|   false|     false|[1382bfb9-0880-46...|          [Big Dada]|trackplay|        null|  2006-04-18|            null|      null|           null|56664|https://api.kexp....|                Bump|https://ia903205....|    null|https://api.kexp....|\n",
      "|2023-04-10 10:37:24|       Slugs of Love|       Little Dragon|[c8a9ae11-63bf-40...|The Swedish band'...|3178562|https://ia802609....|  false|   false|     false|[dc940013-b8a8-43...|        [Ninja Tune]|trackplay|        null|  2023-04-05|            null|      null|         Medium|56664|https://api.kexp....|       Slugs of Love|https://ia802609....|    null|https://api.kexp....|\n",
      "|2023-04-10 10:35:21|                null|                null|                null|                    |3178561|                    |   null|    null|      null|                null|                null| airbreak|        null|        null|            null|      null|           null|56664|https://api.kexp....|                null|                    |    null|https://api.kexp....|\n",
      "|2023-04-10 10:32:13| Continue As A Guest|The New Pornograp...|[25b75a66-ce83-4d...|The New Pornograp...|3178560|https://ia902609....|  false|    true|     false|[5a4f8d65-681e-4a...|     [Merge Records]|trackplay|        null|  2023-03-31|            null|      null|         Medium|56664|https://api.kexp....|          Angelcover|https://ia802609....|    null|https://api.kexp....|\n",
      "|2023-04-10 10:27:41|    Abysmal Thoughts|           The Drums|[c3ecef5d-84f3-49...|The Drums are an ...|3178559|https://ia801508....|  false|   false|     false|[1bfd06be-a6ed-4c...|[Epitaph, ADA US,...|trackplay|        null|  2017-06-23|            null|      null|        Library|56664|https://api.kexp....| Blood Under My Belt|https://ia801508....|    null|https://api.kexp....|\n",
      "|2023-04-10 10:25:18|          Blue Skies|                Dehd|[d5ccd5b5-44b5-49...|“‘Bad Love’ is ab...|3178558|https://ia801506....|  false|   false|     false|[76da5b47-69e8-49...|[Fat Possum Records]|trackplay|        null|  2022-05-27|            null|      null|        Library|56664|https://api.kexp....|            Bad Love|https://ia601506....|    null|https://api.kexp....|\n",
      "|2023-04-10 10:21:10|      Sole Obsession|  Nation of Language|[88927646-0c28-4b...|                null|3178556|https://ia601603....|  false|   false|     false|[3ccd1270-99d3-4b...| [Play It Again Sam]|trackplay|        null|  2023-03-08|            null|      null|          Heavy|56664|https://api.kexp....|      Sole Obsession|https://ia801603....|    null|https://api.kexp....|\n",
      "|2023-04-10 10:19:27|                null|                null|                null|                    |3178557|                    |   null|    null|      null|                null|                null| airbreak|        null|        null|            null|      null|           null|56664|https://api.kexp....|                null|                    |    null|https://api.kexp....|\n",
      "|2023-04-10 10:15:46|                Fuse|Everything but th...|[959cf5bf-ee29-4a...|\"We wanted to com...|3178555|https://ia804705....|  false|   false|     false|[f58041a3-1438-4e...|       [Buzzin' Fly]|trackplay|        null|  2023-04-21|            null|      null|          Heavy|56664|https://api.kexp....|Nothing Left To Lose|https://ia904705....|    null|https://api.kexp....|\n",
      "|2023-04-10 10:10:44|         Moon Safari|                 Air|[cb67438a-7f50-4f...|Air's Nicolas God...|3178554|https://ia600807....|  false|   false|     false|[60f3af98-d6ca-49...|       [Astralwerks]|trackplay|        null|  1998-04-10|            null|      null|           null|56664|https://api.kexp....|            Sexy Boy|https://ia800807....|    null|https://api.kexp....|\n",
      "|2023-04-10 10:06:08|   This Is All Yours|               alt-J|[fc7bbf00-fbaa-47...|This song samples...|3178553|https://ia903409....|  false|   false|     false|[24d170a0-dfd0-40...|  [Infectious Music]|trackplay|        null|  2014-09-19|            null|      null|           null|56664|https://api.kexp....|  Hunger of the Pine|https://ia803409....|    null|https://api.kexp....|\n",
      "|2023-04-10 10:03:08|After Hours (remi...|          The Weeknd|[c8b03190-306c-41...|                null|3178552|                    |  false|   false|     false|[e0ecd909-0477-48...|  [Republic Records]|trackplay|        null|  2020-04-03|            null|      null|           null|56664|https://api.kexp....|After Hours (The ...|                    |    null|https://api.kexp....|\n",
      "|2023-04-10 10:01:13|                null|                null|                null|                    |3178551|                    |   null|    null|      null|                null|                null| airbreak|        null|        null|            null|      null|           null|56663|https://api.kexp....|                null|                    |    null|https://api.kexp....|\n",
      "|2023-04-10 09:56:31|                Soba|         Aster Aweke|[a9a3acea-e026-44...|Aster was born in...|3178550|https://ia801604....|  false|   false|     false|[157afde4-4bf5-40...|        [[no label]]|trackplay|        null|  2023-02-04|            null|      null|            R/N|56663|https://api.kexp....|                 Ene|https://ia601604....|    null|https://api.kexp....|\n",
      "|2023-04-10 09:52:52|        Mourning Due|Nappy Nina feat. ...|[4abdc07a-e554-41...|Check out the Liv...|3178549|https://ia601602....|  false|   false|     false|                  []|                  []|trackplay|        null|  2023-02-17|            null|      null|         Medium|56663|https://api.kexp....|           (B)ending|https://ia601602....|    null|https://api.kexp....|\n",
      "|2023-04-10 09:50:00|                null|                null|                null|                    |3178547|                    |   null|    null|      null|                null|                null| airbreak|        null|        null|            null|      null|           null|56663|https://api.kexp....|                null|                    |    null|https://api.kexp....|\n",
      "+-------------------+--------------------+--------------------+--------------------+--------------------+-------+--------------------+-------+--------+----------+--------------------+--------------------+---------+------------+------------+----------------+----------+---------------+-----+--------------------+--------------------+--------------------+--------+--------------------+\n",
      "only showing top 20 rows\n",
      "\n"
     ]
    }
   ],
   "source": [
    "kexp_playlist.show()"
   ],
   "metadata": {
    "collapsed": false
   }
  },
  {
   "cell_type": "code",
   "execution_count": 12,
   "outputs": [
    {
     "name": "stdout",
     "output_type": "stream",
     "text": [
      "+----------+\n",
      "|play_count|\n",
      "+----------+\n",
      "|      1563|\n",
      "+----------+\n",
      "\n"
     ]
    }
   ],
   "source": [
    "catalog.sql(\"select count(*) as play_count from KEXP_PLAYLIST\").show()"
   ],
   "metadata": {
    "collapsed": false
   }
  },
  {
   "cell_type": "code",
   "execution_count": 15,
   "outputs": [
    {
     "name": "stdout",
     "output_type": "stream",
     "text": [
      "+-------+-------------------+--------------------+--------------------+-----+\n",
      "|     id|            airdate|              artist|                song| show|\n",
      "+-------+-------------------+--------------------+--------------------+-----+\n",
      "|3178592|2023-04-10 12:31:15|  The Murder Capital|      For Everything|56664|\n",
      "|3178591|2023-04-10 12:31:10|                null|                null|56664|\n",
      "|3178590|2023-04-10 12:25:31|      Fontaines D.C.|         ’Cello Song|56664|\n",
      "|3178589|2023-04-10 12:20:21|            Adorable|      Sunshine Smile|56664|\n",
      "|3178588|2023-04-10 12:17:46|               Bully|      Days Move Slow|56664|\n",
      "|3178587|2023-04-10 12:16:19|                null|                null|56664|\n",
      "|3178586|2023-04-10 12:10:33|De La Soul feat. ...|               Buddy|56664|\n",
      "|3178585|2023-04-10 12:06:56|           Deee‐Lite|Groove Is in the ...|56664|\n",
      "|3178584|2023-04-10 12:02:50|     Jungle Brothers|  Doin’ Our Own Dang|56664|\n",
      "|3178583|2023-04-10 12:01:53|                null|                null|56664|\n",
      "|3178582|2023-04-10 11:53:19|The Chemical Brot...|Galvanize (extend...|56664|\n",
      "|3178581|2023-04-10 11:49:27|        Beastie Boys|     Get It Together|56664|\n",
      "|3178580|2023-04-10 11:46:34|               Q‐Tip|      Johnny Is Dead|56664|\n",
      "|3178579|2023-04-10 11:41:57|                null|                null|56664|\n",
      "|3178578|2023-04-10 11:42:49|A Tribe Called Quest|I Left My Wallet ...|56664|\n",
      "|3178577|2023-04-10 11:34:56|Trentemøller feat...|             Deceive|56664|\n",
      "|3178576|2023-04-10 11:31:43|        Debby Friday|            HOT LOVE|56664|\n",
      "|3178575|2023-04-10 11:28:04|        Soul II Soul|        Back to Life|56664|\n",
      "|3178574|2023-04-10 11:24:55|         Laura Mvula|              Got Me|56664|\n",
      "|3178573|2023-04-10 11:22:20|                null|                null|56664|\n",
      "+-------+-------------------+--------------------+--------------------+-----+\n",
      "only showing top 20 rows\n",
      "\n"
     ]
    }
   ],
   "source": [
    "catalog.sql(\"select id, airdate, artist, song, show from KEXP_PLAYLIST order by id desc\").show()"
   ],
   "metadata": {
    "collapsed": false
   }
  },
  {
   "cell_type": "code",
   "execution_count": 16,
   "outputs": [
    {
     "name": "stdout",
     "output_type": "stream",
     "text": [
      "root\n",
      " |-- airdate: timestamp (nullable = true)\n",
      " |-- album: string (nullable = true)\n",
      " |-- artist: string (nullable = true)\n",
      " |-- artist_ids: array (nullable = true)\n",
      " |    |-- element: string (containsNull = true)\n",
      " |-- comment: string (nullable = true)\n",
      " |-- id: integer (nullable = true)\n",
      " |-- image_uri: string (nullable = true)\n",
      " |-- is_live: boolean (nullable = true)\n",
      " |-- is_local: boolean (nullable = true)\n",
      " |-- is_request: boolean (nullable = true)\n",
      " |-- label_ids: array (nullable = true)\n",
      " |    |-- element: string (containsNull = true)\n",
      " |-- labels: array (nullable = true)\n",
      " |    |-- element: string (containsNull = true)\n",
      " |-- play_type: string (nullable = true)\n",
      " |-- recording_id: integer (nullable = true)\n",
      " |-- release_date: date (nullable = true)\n",
      " |-- release_group_id: integer (nullable = true)\n",
      " |-- release_id: integer (nullable = true)\n",
      " |-- rotation_status: string (nullable = true)\n",
      " |-- show: integer (nullable = true)\n",
      " |-- show_uri: string (nullable = true)\n",
      " |-- song: string (nullable = true)\n",
      " |-- thumbnail_uri: string (nullable = true)\n",
      " |-- track_id: integer (nullable = true)\n",
      " |-- uri: string (nullable = true)\n",
      "\n"
     ]
    }
   ],
   "source": [
    "catalog.get_data_frame(\"bronze\", \"KEXP_PLAYLIST\").printSchema()"
   ],
   "metadata": {
    "collapsed": false
   }
  },
  {
   "cell_type": "code",
   "execution_count": 18,
   "outputs": [
    {
     "name": "stdout",
     "output_type": "stream",
     "text": [
      "+-------+----------------+\n",
      "|     id|size(artist_ids)|\n",
      "+-------+----------------+\n",
      "|3177634|               8|\n",
      "|3177449|               7|\n",
      "|3177284|               7|\n",
      "|3177633|               6|\n",
      "|3178261|               6|\n",
      "|3177629|               5|\n",
      "|3177450|               5|\n",
      "|3177516|               4|\n",
      "|3178533|               4|\n",
      "|3178513|               4|\n",
      "|3178505|               3|\n",
      "|3177439|               3|\n",
      "|3178085|               3|\n",
      "|3178518|               3|\n",
      "|3177162|               3|\n",
      "|3177134|               3|\n",
      "|3178586|               3|\n",
      "|3178292|               3|\n",
      "|3177267|               3|\n",
      "|3177381|               3|\n",
      "+-------+----------------+\n",
      "only showing top 20 rows\n",
      "\n"
     ]
    }
   ],
   "source": [
    "catalog.sql(\"select id, size(artist_ids) from KEXP_PLAYLIST order by size(artist_ids) desc\").show()"
   ],
   "metadata": {
    "collapsed": false
   }
  },
  {
   "cell_type": "code",
   "execution_count": 27,
   "outputs": [
    {
     "name": "stdout",
     "output_type": "stream",
     "text": [
      "-RECORD 0----------------------------------------------------------------------------------------------------------------------------------------------------------------------------------------------------------------------------------------------------------------------------------------------------------------------\n",
      " artist     | 9umba, Toss & Mdoovar feat. Sir Trill, Sino Msolo, Lady Du, Young Stunna & Slade                                                                                                                                                                                                                                 \n",
      " song       | uMlando                                                                                                                                                                                                                                                                                                          \n",
      " album      | uMlando                                                                                                                                                                                                                                                                                                          \n",
      " artist_ids | [d3253aba-df21-4dc1-954a-fe9596a04d20, 13bcba23-2fd2-4b72-af0f-202e477f09e8, 936c3773-6467-4862-ad15-f41e427d079e, 7a7b5cfe-24e0-42f7-b66f-a92a4c210a10, 40b8dcd1-6efd-49f9-8871-3ec6e1acc3e9, 8d3dd2fe-0aac-4a31-bf11-c977ec9edd4a, e701b534-eea5-4b6c-92b7-833a4108cc58, 7c745985-26bf-4448-84d4-0a7dfe574cd3] \n",
      "\n"
     ]
    }
   ],
   "source": [
    "catalog.sql(\"select artist, song, album, artist_ids from KEXP_PLAYLIST where ID = 3177634\").show(truncate=False, vertical=True)"
   ],
   "metadata": {
    "collapsed": false
   }
  },
  {
   "cell_type": "code",
   "execution_count": 28,
   "outputs": [],
   "source": [
    "kexp_playlist = catalog.get_data_frame(\"bronze\", \"KEXP_PLAYLIST\")"
   ],
   "metadata": {
    "collapsed": false
   }
  },
  {
   "cell_type": "code",
   "execution_count": 31,
   "outputs": [],
   "source": [
    "from pyspark.sql.functions import explode"
   ],
   "metadata": {
    "collapsed": false
   }
  },
  {
   "cell_type": "code",
   "execution_count": 32,
   "outputs": [
    {
     "name": "stdout",
     "output_type": "stream",
     "text": [
      "+-------------------+--------------------+--------------------+--------------------+--------------------+-------+--------------------+-------+--------+----------+--------------------+--------------------+---------+------------+------------+----------------+----------+---------------+-----+--------------------+--------------------+--------------------+--------+--------------------+\n",
      "|            airdate|               album|              artist|          artist_ids|             comment|     id|           image_uri|is_live|is_local|is_request|           label_ids|              labels|play_type|recording_id|release_date|release_group_id|release_id|rotation_status| show|            show_uri|                song|       thumbnail_uri|track_id|                 uri|\n",
      "+-------------------+--------------------+--------------------+--------------------+--------------------+-------+--------------------+-------+--------+----------+--------------------+--------------------+---------+------------+------------+----------------+----------+---------------+-----+--------------------+--------------------+--------------------+--------+--------------------+\n",
      "|2023-04-07 18:06:34|         Tisched Off|Bartees Strange f...|56cbef7f-3320-45f...|The second single...|3177448|                    |  false|   false|     false|[38dc88de-7720-41...|   [Sub Pop Records]|trackplay|        null|  2023-02-08|            null|      null|         Medium|56637|https://api.kexp....|           Keekee'in|                    |    null|https://api.kexp....|\n",
      "|2023-04-07 18:06:34|         Tisched Off|Bartees Strange f...|9e1ea361-c2cc-45a...|The second single...|3177448|                    |  false|   false|     false|[38dc88de-7720-41...|   [Sub Pop Records]|trackplay|        null|  2023-02-08|            null|      null|         Medium|56637|https://api.kexp....|           Keekee'in|                    |    null|https://api.kexp....|\n",
      "|2023-04-07 18:05:44|    Music To Go Nuts|  Judy and the Jerks|4cc23f20-0e93-499...|Support independe...|3177447|                    |  false|   false|     false|                  []|                  []|trackplay|        null|  2022-01-01|            null|      null|           null|56637|https://api.kexp....|          California|                    |    null|https://api.kexp....|\n",
      "|2023-04-07 18:02:17|Praise A Lord Who...|          Yves Tumor|b675f327-4738-4af...|Yves Tumor will p...|3177446|https://ia601604....|  false|   false|     false|[46f0f4cd-8aab-4b...|              [Warp]|trackplay|        null|  2023-03-17|            null|      null|          Heavy|56637|https://api.kexp....|           Ebony Eye|https://ia801604....|    null|https://api.kexp....|\n",
      "|2023-04-07 17:59:07|         London Brew|         London Brew|b9ba06b7-953d-418...|From the upcoming...|3177445|https://ia801607....|  false|   false|     false|[5f42fd65-a55b-40...|          [Downtown]|trackplay|        null|  2023-03-31|            null|      null|         Medium|56637|https://api.kexp....|Miles Chases New ...|https://ia801607....|    null|https://api.kexp....|\n",
      "|2023-04-07 17:50:19|good kid, m.A.A.d...|      Kendrick Lamar|381086ea-f511-4ab...|On October 22, 20...|3177443|https://ia802908....|  false|   false|     false|[c0629488-2aa2-4b...|[Aftermath Entert...|trackplay|        null|  2012-10-22|            null|      null|           null|56637|https://api.kexp....|Swimming Pools (D...|https://ia802908....|    null|https://api.kexp....|\n",
      "|2023-04-07 17:42:27|   The Narcissist II|          Dean Blunt|e8bd5b47-e8b4-467...|\"Achieving the ki...|3177442|                    |  false|   false|     false|[514fc9ba-ebd1-42...|   [Hippos in Tanks]|trackplay|        null|  2012-02-19|            null|      null|           null|56637|https://api.kexp....|       Direct Line 2|                    |    null|https://api.kexp....|\n",
      "|2023-04-07 17:32:37|      Channel Orange|         Frank Ocean|e520459c-dff4-491...|In 2012's “Sierra...|3177440|https://ia801907....|  false|   false|     false|[a92d1684-4edb-48...|[Def Jam Recordings]|trackplay|        null|  2012-07-10|            null|      null|           null|56637|https://api.kexp....|        Sierra Leone|https://ia801907....|    null|https://api.kexp....|\n",
      "|2023-04-07 17:28:23|  The OF Tape Vol. 2|Tyler, the Creato...|f6beac20-5dfe-4d1...|The OF Tape Vol. ...|3177439|https://coverarta...|  false|   false|     false|[f3b593d5-18b6-41...|           [OFWGKTA]|trackplay|        null|  2012-03-16|            null|      null|           null|56637|https://api.kexp....|            Analog 2|https://coverarta...|    null|https://api.kexp....|\n",
      "|2023-04-07 17:28:23|  The OF Tape Vol. 2|Tyler, the Creato...|e520459c-dff4-491...|The OF Tape Vol. ...|3177439|https://coverarta...|  false|   false|     false|[f3b593d5-18b6-41...|           [OFWGKTA]|trackplay|        null|  2012-03-16|            null|      null|           null|56637|https://api.kexp....|            Analog 2|https://coverarta...|    null|https://api.kexp....|\n",
      "|2023-04-07 17:28:23|  The OF Tape Vol. 2|Tyler, the Creato...|7d3d6c65-e053-465...|The OF Tape Vol. ...|3177439|https://coverarta...|  false|   false|     false|[f3b593d5-18b6-41...|           [OFWGKTA]|trackplay|        null|  2012-03-16|            null|      null|           null|56637|https://api.kexp....|            Analog 2|https://coverarta...|    null|https://api.kexp....|\n",
      "|2023-04-07 17:18:20|        God's Father|               Lil B|1550f952-c91b-40d...|In 2012, The New ...|3177437|                    |  false|   false|     false|[403c59c1-8fdf-4a...|[BasedWorld Records]|trackplay|        null|        null|            null|      null|           null|56637|https://api.kexp....|    Bitch I'm Bussin|                    |    null|https://api.kexp....|\n",
      "|2023-04-07 17:09:08|        Finally Rich|          Chief Keef|9118f524-be76-4ea...|\"Love Sosa\" is th...|3177435|https://coverarta...|  false|   false|     false|[2182a316-c4bd-46...|[Interscope Records]|trackplay|        null|  2012-12-14|            null|      null|           null|56637|https://api.kexp....|           Love Sosa|https://coverarta...|    null|https://api.kexp....|\n",
      "|2023-04-07 16:55:45|Girl in the Half ...|               Liv.e|0bcfef47-91d0-41d...|The latest album ...|3177432|https://ia804705....|  false|   false|     false|[39a43c68-ae4e-44...|      [In Real Life]|trackplay|        null|  2023-02-10|            null|      null|          Heavy|56637|https://api.kexp....|        Wild Animals|https://ia804705....|    null|https://api.kexp....|\n",
      "|2023-04-07 16:50:47|  In Search of Manny|    Luscious Jackson|8be5d1de-e925-4e9...|  RIP Vivian Trimble|3177430|https://ia600303....|  false|   false|     false|[9844e78d-d74a-47...|       [Grand Royal]|trackplay|        null|  1993-04-07|            null|      null|           null|56637|https://api.kexp....|     Life of Leisure|https://ia600303....|    null|https://api.kexp....|\n",
      "|2023-04-07 16:44:28|  I'm Feeling Myself|    Luscious Jackson|8be5d1de-e925-4e9...|Luscious Jackson ...|3177429|                    |  false|   false|     false|[9844e78d-d74a-47...|[Grand Royal, Gra...|trackplay|        null|  1999-04-07|            null|      null|           null|56637|https://api.kexp....|Nervous Breakthrough|                    |    null|https://api.kexp....|\n",
      "|2023-04-07 16:38:51|Mothership Connec...|          Parliament|d1947987-9614-49a...|PARLIAMENT ARE CO...|3177428|https://ia801306....|  false|   false|     false|[98f93684-2a6f-4d...|[Casablanca Records]|trackplay|        null|  1990-02-21|            null|      null|           null|56637|https://api.kexp....|Give Up the Funk ...|https://ia601306....|    null|https://api.kexp....|\n",
      "|2023-04-07 16:35:16|       Foxbase Alpha|       Saint Etienne|3997d4a6-c2bd-419...|This English trio...|3177427|https://ia803203....|  false|   false|     false|[c595c289-47ce-4f...|[Warner Bros. Rec...|trackplay|        null|  1992-01-14|            null|      null|           null|56637|https://api.kexp....|              Spring|https://ia803203....|    null|https://api.kexp....|\n",
      "|2023-04-07 16:31:15|             Flowers|        The Emotions|6ff13427-08ff-4da...|The group was ori...|3177425|https://coverarta...|  false|   false|     false|[011d1192-6f65-45...|          [Columbia]|trackplay|        null|  1976-01-01|            null|      null|           null|56637|https://api.kexp....|             Flowers|https://coverarta...|    null|https://api.kexp....|\n",
      "|2023-04-07 16:27:59|   Outlandos d'Amour|          The Police|9e0e2b01-41db-400...|Released on this ...|3177424|https://ia801603....|  false|   false|     false|[35515729-1f2c-4c...|       [A&M Records]|trackplay|        null|  1978-11-02|            null|      null|        Library|56637|https://api.kexp....|             Roxanne|https://ia801603....|    null|https://api.kexp....|\n",
      "+-------------------+--------------------+--------------------+--------------------+--------------------+-------+--------------------+-------+--------+----------+--------------------+--------------------+---------+------------+------------+----------------+----------+---------------+-----+--------------------+--------------------+--------------------+--------+--------------------+\n",
      "only showing top 20 rows\n",
      "\n"
     ]
    },
    {
     "name": "stderr",
     "output_type": "stream",
     "text": [
      "                                                                                \r"
     ]
    }
   ],
   "source": [
    "kexp_playlist.withColumn(\"artist_ids\", explode(kexp_playlist.artist_ids)).show()"
   ],
   "metadata": {
    "collapsed": false
   }
  },
  {
   "cell_type": "code",
   "execution_count": 36,
   "outputs": [],
   "source": [
    "artist_df = catalog.sql(\"select artist, artist_ids from KEXP_PLAYLIST order by artist\")"
   ],
   "metadata": {
    "collapsed": false
   }
  },
  {
   "cell_type": "code",
   "execution_count": 37,
   "outputs": [
    {
     "name": "stdout",
     "output_type": "stream",
     "text": [
      "+--------------------+--------------------+\n",
      "|              artist|          artist_ids|\n",
      "+--------------------+--------------------+\n",
      "|     $wingin’ Utter$|25302723-b24f-4d0...|\n",
      "|                 310|5e29d25a-ba6f-402...|\n",
      "|            38 Spesh|3e63ef4f-93c5-48a...|\n",
      "|               6LACK|07832b42-8826-4ab...|\n",
      "|           79rs Gang|9d7c95f4-9575-4b7...|\n",
      "|            8fatfat8|030c731f-6b7c-407...|\n",
      "|            8fatfat8|030c731f-6b7c-407...|\n",
      "|9th Wonder feat. ...|48513f24-37d5-423...|\n",
      "|9th Wonder feat. ...|6b1acf37-0b3b-4cc...|\n",
      "|9th Wonder feat. ...|6705519c-4f9b-4e5...|\n",
      "|9umba, Toss & Mdo...|d3253aba-df21-4dc...|\n",
      "|9umba, Toss & Mdo...|13bcba23-2fd2-4b7...|\n",
      "|9umba, Toss & Mdo...|936c3773-6467-486...|\n",
      "|9umba, Toss & Mdo...|7a7b5cfe-24e0-42f...|\n",
      "|9umba, Toss & Mdo...|40b8dcd1-6efd-49f...|\n",
      "|9umba, Toss & Mdo...|8d3dd2fe-0aac-4a3...|\n",
      "|9umba, Toss & Mdo...|e701b534-eea5-4b6...|\n",
      "|9umba, Toss & Mdo...|7c745985-26bf-444...|\n",
      "|             A House|c2f465fc-1f81-4d2...|\n",
      "|A Tribe Called Quest|9689aa5a-4471-4fb...|\n",
      "+--------------------+--------------------+\n",
      "only showing top 20 rows\n",
      "\n"
     ]
    }
   ],
   "source": [
    "artist_df.withColumn(\"artist_ids\", explode(artist_df.artist_ids)).show()"
   ],
   "metadata": {
    "collapsed": false
   }
  },
  {
   "cell_type": "code",
   "execution_count": null,
   "outputs": [],
   "source": [],
   "metadata": {
    "collapsed": false
   }
  }
 ],
 "metadata": {
  "kernelspec": {
   "display_name": "Python 3",
   "language": "python",
   "name": "python3"
  },
  "language_info": {
   "codemirror_mode": {
    "name": "ipython",
    "version": 2
   },
   "file_extension": ".py",
   "mimetype": "text/x-python",
   "name": "python",
   "nbconvert_exporter": "python",
   "pygments_lexer": "ipython2",
   "version": "2.7.6"
  }
 },
 "nbformat": 4,
 "nbformat_minor": 0
}
