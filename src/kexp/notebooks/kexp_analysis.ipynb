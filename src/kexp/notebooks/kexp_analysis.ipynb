{
 "cells": [
  {
   "cell_type": "code",
   "execution_count": 3,
   "metadata": {
    "collapsed": true,
    "ExecuteTime": {
     "start_time": "2023-04-12T22:22:13.746849Z",
     "end_time": "2023-04-12T22:22:13.752020Z"
    }
   },
   "outputs": [],
   "source": [
    "import spark_catalog\n",
    "import duckdb"
   ]
  },
  {
   "cell_type": "code",
   "execution_count": 4,
   "outputs": [
    {
     "name": "stdout",
     "output_type": "stream",
     "text": [
      ":: loading settings :: url = jar:file:/Users/timburns/PycharmProjects/OwlMountain/venv/lib/python3.9/site-packages/pyspark/jars/ivy-2.5.1.jar!/org/apache/ivy/core/settings/ivysettings.xml\n"
     ]
    },
    {
     "name": "stderr",
     "output_type": "stream",
     "text": [
      "Ivy Default Cache set to: /Users/timburns/.ivy2/cache\n",
      "The jars for the packages stored in: /Users/timburns/.ivy2/jars\n",
      "io.delta#delta-core_2.12 added as a dependency\n",
      ":: resolving dependencies :: org.apache.spark#spark-submit-parent-99f942a1-005e-4f77-b152-b3fff431606a;1.0\n",
      "\tconfs: [default]\n",
      "\tfound io.delta#delta-core_2.12;2.3.0 in central\n",
      "\tfound io.delta#delta-storage;2.3.0 in central\n",
      "\tfound org.antlr#antlr4-runtime;4.8 in central\n",
      ":: resolution report :: resolve 97ms :: artifacts dl 3ms\n",
      "\t:: modules in use:\n",
      "\tio.delta#delta-core_2.12;2.3.0 from central in [default]\n",
      "\tio.delta#delta-storage;2.3.0 from central in [default]\n",
      "\torg.antlr#antlr4-runtime;4.8 from central in [default]\n",
      "\t---------------------------------------------------------------------\n",
      "\t|                  |            modules            ||   artifacts   |\n",
      "\t|       conf       | number| search|dwnlded|evicted|| number|dwnlded|\n",
      "\t---------------------------------------------------------------------\n",
      "\t|      default     |   3   |   0   |   0   |   0   ||   3   |   0   |\n",
      "\t---------------------------------------------------------------------\n",
      ":: retrieving :: org.apache.spark#spark-submit-parent-99f942a1-005e-4f77-b152-b3fff431606a\n",
      "\tconfs: [default]\n",
      "\t0 artifacts copied, 3 already retrieved (0kB/3ms)\n"
     ]
    },
    {
     "name": "stdout",
     "output_type": "stream",
     "text": [
      "23/04/12 22:22:18 WARN NativeCodeLoader: Unable to load native-hadoop library for your platform... using builtin-java classes where applicable\n"
     ]
    },
    {
     "name": "stderr",
     "output_type": "stream",
     "text": [
      "Setting default log level to \"WARN\".\n",
      "To adjust logging level use sc.setLogLevel(newLevel). For SparkR, use setLogLevel(newLevel).\n",
      "/Users/timburns/PycharmProjects/OwlMountain/venv/lib/python3.9/site-packages/pyspark/sql/context.py:112: FutureWarning: Deprecated in 3.0.0. Use SparkSession.builder.getOrCreate() instead.\n",
      "  warnings.warn(\n"
     ]
    }
   ],
   "source": [
    "catalog = spark_catalog.SparkCatalog(source_name=\"kexp\", lake_location=\"../../../data/spark/kexp\")"
   ],
   "metadata": {
    "collapsed": false,
    "ExecuteTime": {
     "start_time": "2023-04-12T22:22:16.943897Z",
     "end_time": "2023-04-12T22:22:19.216894Z"
    }
   }
  },
  {
   "cell_type": "code",
   "execution_count": 5,
   "outputs": [
    {
     "name": "stdout",
     "output_type": "stream",
     "text": [
      "23/04/12 22:22:25 WARN package: Truncated the string representation of a plan since it was too large. This behavior can be adjusted by setting 'spark.sql.debug.maxToStringFields'.\n"
     ]
    }
   ],
   "source": [
    "kexp_playlist = catalog.get_data_frame(\"bronze\", \"KEXP_PLAYLIST\")"
   ],
   "metadata": {
    "collapsed": false,
    "ExecuteTime": {
     "start_time": "2023-04-12T22:22:22.861328Z",
     "end_time": "2023-04-12T22:22:25.812632Z"
    }
   }
  },
  {
   "cell_type": "code",
   "execution_count": 6,
   "outputs": [
    {
     "name": "stdout",
     "output_type": "stream",
     "text": [
      "+-------------------+--------------------+--------------------+--------------------+--------------------+-------+--------------------+-------+--------+----------+--------------------+--------------------+---------+------------+------------+----------------+----------+---------------+-----+--------------------+--------------------+--------------------+--------+--------------------+-------------+------------------------+-------------------------+\n",
      "|            airdate|               album|              artist|          artist_ids|             comment|     id|           image_uri|is_live|is_local|is_request|           label_ids|              labels|play_type|recording_id|release_date|release_group_id|release_id|rotation_status| show|            show_uri|                song|       thumbnail_uri|track_id|                 uri|bronze_source|bronze_created_timestamp|bronze_modified_timestamp|\n",
      "+-------------------+--------------------+--------------------+--------------------+--------------------+-------+--------------------+-------+--------+----------+--------------------+--------------------+---------+------------+------------+----------------+----------+---------------+-----+--------------------+--------------------+--------------------+--------+--------------------+-------------+------------------------+-------------------------+\n",
      "|2023-04-12 16:16:18|                null|                null|                null|                    |3179492|                    |   null|    null|      null|                null|                null| airbreak|        null|        null|            null|      null|           null|56682|https://api.kexp....|                null|                    |    null|https://api.kexp....|         kexp|     2023-04-12 19:34:58|      2023-04-12 19:34:58|\n",
      "|2023-04-12 16:16:05|         AOI: Bionix|          De La Soul|[a8ebde98-7e91-46...|                null|3179491|https://ia801601....|  false|   false|     false|[dd13c200-c9c9-46...|         [Tommy Boy]|trackplay|        null|  2001-04-12|            null|      null|           null|56682|https://api.kexp....|              Simply|https://ia801601....|    null|https://api.kexp....|         kexp|     2023-04-12 19:34:58|      2023-04-12 19:34:58|\n",
      "|2023-04-12 16:12:48|         AOI: Bionix|          De La Soul|[a8ebde98-7e91-46...|                null|3179489|https://ia801601....|  false|   false|     false|[dd13c200-c9c9-46...|         [Tommy Boy]|trackplay|        null|  2001-04-12|            null|      null|           null|56682|https://api.kexp....|              Bionix|https://ia801601....|    null|https://api.kexp....|         kexp|     2023-04-12 19:34:58|      2023-04-12 19:34:58|\n",
      "|2023-04-12 16:09:39|Jah Shaka Meets H...|Jah Shaka Meets H...|[47b2253e-034f-48...|                null|3179488|https://coverarta...|  false|   false|     false|[3b634086-c7e6-40...|   [Jah Shaka Music]|trackplay|        null|  1993-07-15|            null|      null|           null|56682|https://api.kexp....|          Jah a Come|https://coverarta...|    null|https://api.kexp....|         kexp|     2023-04-12 19:34:58|      2023-04-12 19:34:58|\n",
      "|2023-04-12 16:07:13|         Rat Saw God|           Wednesday|[9833b455-0da2-40...|                null|3179487|https://ia804706....|  false|   false|     false|[f70f950f-2587-4f...|       [Dead Oceans]|trackplay|        null|  2023-04-07|            null|      null|          Heavy|56682|https://api.kexp....|  TV in the Gas Pump|https://ia804706....|    null|https://api.kexp....|         kexp|     2023-04-12 19:34:58|      2023-04-12 19:34:58|\n",
      "|2023-04-12 16:03:05|Socks, Drugs, and...|    Buffalo Daughter|[c71ae637-cbc5-4f...|                null|3179486|https://ia800100....|  false|   false|     false|                  []|                  []|trackplay|        null|  1997-06-10|            null|      null|           null|56681|https://api.kexp....|Big Wednesday (Mo...|https://ia800100....|    null|https://api.kexp....|         kexp|     2023-04-12 19:34:58|      2023-04-12 19:34:58|\n",
      "|2023-04-12 15:59:01|  The Distant Future|Flight of the Con...|[1f574ab1-a46d-45...|UH-OH YOU KNOW WH...|3179485|https://ia600107....|  false|   false|     false|[38dc88de-7720-41...|   [Sub Pop Records]|trackplay|        null|  2007-08-07|            null|      null|           null|56681|https://api.kexp....|       Business Time|https://ia600107....|    null|https://api.kexp....|         kexp|     2023-04-12 19:34:58|      2023-04-12 19:34:58|\n",
      "|2023-04-12 15:56:22|                null|                null|                null|                    |3179484|                    |   null|    null|      null|                null|                null| airbreak|        null|        null|            null|      null|           null|56681|https://api.kexp....|                null|                    |    null|https://api.kexp....|         kexp|     2023-04-12 19:34:58|      2023-04-12 19:34:58|\n",
      "|2023-04-12 15:51:59|Gypsy Punks: Unde...|      Gogol Bordello|[f47fc54d-b334-43...|Gogol Bordello wi...|3179483|https://ia601603....|  false|   false|     false|[b5e60f8b-601c-4a...|[SideOneDummy Rec...|trackplay|        null|  2005-08-09|            null|      null|           null|56681|https://api.kexp....|         Not a Crime|https://ia601603....|    null|https://api.kexp....|         kexp|     2023-04-12 19:34:58|      2023-04-12 19:34:58|\n",
      "|2023-04-12 15:48:44|          Final Form|     Sampa the Great|[9d79c790-9897-46...|\"Sampa Tembo, kno...|3179482|https://ia803002....|  false|   false|     false|[dc940013-b8a8-43...|        [Ninja Tune]|trackplay|        null|  2019-06-05|            null|      null|           null|56681|https://api.kexp....|          Final Form|https://ia803002....|    null|https://api.kexp....|         kexp|     2023-04-12 19:34:58|      2023-04-12 19:34:58|\n",
      "|2023-04-12 15:44:46|Big Boi & Dre Pre...|             OutKast|[73fdb566-a9b1-49...|This classic trac...|3179480|https://ia601408....|  false|   false|     false|[c62e3985-6370-44...|            [Arista]|trackplay|        null|  2001-04-12|            null|      null|        Library|56681|https://api.kexp....|  So Fresh, So Clean|https://ia801408....|    null|https://api.kexp....|         kexp|     2023-04-12 19:34:58|      2023-04-12 19:34:58|\n",
      "|2023-04-12 15:41:36|      Expansion Team|     Dilated Peoples|[c71abd83-9d66-4c...|'Expansion Team' ...|3179479|https://ia601902....|  false|   false|     false|[abea2d3e-eabf-44...|   [Capitol Records]|trackplay|        null|  2001-10-23|            null|      null|           null|56681|https://api.kexp....|Worst Comes to Worst|https://ia601902....|    null|https://api.kexp....|         kexp|     2023-04-12 19:34:58|      2023-04-12 19:34:58|\n",
      "|2023-04-12 15:34:33|  Amethyst Rock Star|       Saul Williams|[756cf672-d4ae-44...|Amethyst Rock Sta...|3179478|https://ia601003....|  false|   false|     false|[f5be9cfe-e1af-40...|[American Recordi...|trackplay|        null|  2001-10-23|            null|      null|           null|56681|https://api.kexp....|          Our Father|https://ia801003....|    null|https://api.kexp....|         kexp|     2023-04-12 19:34:58|      2023-04-12 19:34:58|\n",
      "|2023-04-12 15:32:16|                null|                null|                null|                    |3179477|                    |   null|    null|      null|                null|                null| airbreak|        null|        null|            null|      null|           null|56681|https://api.kexp....|                null|                    |    null|https://api.kexp....|         kexp|     2023-04-12 19:34:58|      2023-04-12 19:34:58|\n",
      "|2023-04-12 15:26:57|     Red Barked Tree|                Wire|[7f2a8098-50e3-45...|Red Barked Trees ...|3179476|https://ia803403....|  false|   false|     false|[fabe1e2e-1c3b-46...|          [Pinkflag]|trackplay|        null|  2011-01-10|            null|      null|           null|56681|https://api.kexp....|    Red Barked Trees|https://ia803403....|    null|https://api.kexp....|         kexp|     2023-04-12 19:34:58|      2023-04-12 19:34:58|\n",
      "|2023-04-12 15:24:07|      Perfect Client|          Cable Ties|[e0b1fac5-28f5-42...|\"Perfect client' ...|3179475|https://ia804703....|  false|   false|     false|[5a4f8d65-681e-4a...|     [Merge Records]|trackplay|        null|  2023-01-31|            null|      null|         Medium|56681|https://api.kexp....|      Perfect Client|https://ia904703....|    null|https://api.kexp....|         kexp|     2023-04-12 19:34:58|      2023-04-12 19:34:58|\n",
      "|2023-04-12 15:15:07|                null|                null|                null|                    |3179474|                    |   null|    null|      null|                null|                null| airbreak|        null|        null|            null|      null|           null|56681|https://api.kexp....|                null|                    |    null|https://api.kexp....|         kexp|     2023-04-12 19:34:58|      2023-04-12 19:34:58|\n",
      "|2023-04-12 15:12:36|        Live on KEXP|   Screaming Females|[b0f12d25-6175-46...|Desert Train is t...|3179473|https://www.kexp....|  false|   false|     false|[89e0503e-96f0-41...|              [KEXP]|trackplay|        null|  2023-04-12|            null|      null|           null|56681|https://api.kexp....|        Desert Train|https://www.kexp....|    null|https://api.kexp....|         kexp|     2023-04-12 19:34:58|      2023-04-12 19:34:58|\n",
      "|2023-04-12 15:08:35|        Live on KEXP|   Screaming Females|                  []|Beyond the Void i...|3179472|https://www.kexp....|  false|   false|     false|[89e0503e-96f0-41...|              [KEXP]|trackplay|        null|  2023-04-12|            null|      null|           null|56681|https://api.kexp....|     Beyond the Void|https://www.kexp....|    null|https://api.kexp....|         kexp|     2023-04-12 19:34:58|      2023-04-12 19:34:58|\n",
      "|2023-04-12 15:04:26|        Live on KEXP|   Screaming Females|                  []|Brass Bells, the ...|3179471|https://www.kexp....|  false|   false|     false|[89e0503e-96f0-41...|              [KEXP]|trackplay|        null|  2023-04-12|            null|      null|           null|56681|https://api.kexp....|          Brass Bell|https://www.kexp....|    null|https://api.kexp....|         kexp|     2023-04-12 19:34:58|      2023-04-12 19:34:58|\n",
      "+-------------------+--------------------+--------------------+--------------------+--------------------+-------+--------------------+-------+--------+----------+--------------------+--------------------+---------+------------+------------+----------------+----------+---------------+-----+--------------------+--------------------+--------------------+--------+--------------------+-------------+------------------------+-------------------------+\n",
      "only showing top 20 rows\n",
      "\n"
     ]
    }
   ],
   "source": [
    "kexp_playlist.show()"
   ],
   "metadata": {
    "collapsed": false,
    "ExecuteTime": {
     "start_time": "2023-04-12T22:22:25.913406Z",
     "end_time": "2023-04-12T22:22:28.756437Z"
    }
   }
  },
  {
   "cell_type": "code",
   "execution_count": 7,
   "outputs": [
    {
     "name": "stdout",
     "output_type": "stream",
     "text": [
      "+----------+\n",
      "|play_count|\n",
      "+----------+\n",
      "|       424|\n",
      "+----------+\n",
      "\n"
     ]
    }
   ],
   "source": [
    "catalog.sql(\"select count(*) as play_count from KEXP_PLAYLIST\").show()"
   ],
   "metadata": {
    "collapsed": false,
    "ExecuteTime": {
     "start_time": "2023-04-12T22:22:32.367696Z",
     "end_time": "2023-04-12T22:22:32.622778Z"
    }
   }
  },
  {
   "cell_type": "code",
   "execution_count": 8,
   "outputs": [
    {
     "name": "stdout",
     "output_type": "stream",
     "text": [
      "+-------+-------------------+--------------------+--------------------+-----+\n",
      "|     id|            airdate|              artist|                song| show|\n",
      "+-------+-------------------+--------------------+--------------------+-----+\n",
      "|3179544|2023-04-12 19:32:05|       Little Dragon|       Slugs of Love|56683|\n",
      "|3179543|2023-04-12 19:28:42|The Psychedelic Furs|         Love My Way|56683|\n",
      "|3179542|2023-04-12 19:24:27|     TV on the Radio|        Shout Me Out|56683|\n",
      "|3179541|2023-04-12 19:21:11|Algiers feat. Sam...|   I Can't Stand It!|56683|\n",
      "|3179540|2023-04-12 19:18:42|                null|                null|56683|\n",
      "|3179539|2023-04-12 19:14:26|El Michels Affair...|       Glorious Game|56683|\n",
      "|3179538|2023-04-12 19:09:44|    William DeVaughn|Be Thankful for W...|56683|\n",
      "|3179537|2023-04-12 19:00:30|Khruangbin & Feli...|Time (You and I) ...|56682|\n",
      "|3179536|2023-04-12 18:56:54|      Herbie Hancock|           Nefertiti|56682|\n",
      "|3179535|2023-04-12 18:48:52|                null|                null|56682|\n",
      "|3179534|2023-04-12 18:51:33|       Róisín Murphy|             CooCool|56682|\n",
      "|3179533|2023-04-12 18:45:42|         Bobby Bland|Ain’t No Love in ...|56682|\n",
      "|3179532|2023-04-12 18:42:01|               Jay-Z|Heart of the City...|56682|\n",
      "|3179531|2023-04-12 18:37:44|           Rodriguez|           Sugar Man|56682|\n",
      "|3179530|2023-04-12 18:35:20|                 Nas|       You're Da Man|56682|\n",
      "|3179529|2023-04-12 18:29:11|        Desire Marea|             Be Free|56682|\n",
      "|3179528|2023-04-12 18:26:14|               DRAMA|       Tighten It Up|56682|\n",
      "|3179527|2023-04-12 18:23:03|    Lavarr the Starr|          Real Frenz|56682|\n",
      "|3179526|2023-04-12 18:16:18|Brandee Younger f...|The Windmills of ...|56682|\n",
      "|3179525|2023-04-12 18:19:30|     Aretha Franklin|      Spanish Harlem|56682|\n",
      "+-------+-------------------+--------------------+--------------------+-----+\n",
      "only showing top 20 rows\n",
      "\n"
     ]
    }
   ],
   "source": [
    "catalog.sql(\"select id, airdate, artist, song, show from KEXP_PLAYLIST order by id desc\").show()"
   ],
   "metadata": {
    "collapsed": false,
    "ExecuteTime": {
     "start_time": "2023-04-12T22:22:35.381152Z",
     "end_time": "2023-04-12T22:22:35.691980Z"
    }
   }
  },
  {
   "cell_type": "code",
   "execution_count": 9,
   "outputs": [
    {
     "name": "stdout",
     "output_type": "stream",
     "text": [
      "root\n",
      " |-- airdate: timestamp (nullable = true)\n",
      " |-- album: string (nullable = true)\n",
      " |-- artist: string (nullable = true)\n",
      " |-- artist_ids: array (nullable = true)\n",
      " |    |-- element: string (containsNull = true)\n",
      " |-- comment: string (nullable = true)\n",
      " |-- id: integer (nullable = true)\n",
      " |-- image_uri: string (nullable = true)\n",
      " |-- is_live: boolean (nullable = true)\n",
      " |-- is_local: boolean (nullable = true)\n",
      " |-- is_request: boolean (nullable = true)\n",
      " |-- label_ids: array (nullable = true)\n",
      " |    |-- element: string (containsNull = true)\n",
      " |-- labels: array (nullable = true)\n",
      " |    |-- element: string (containsNull = true)\n",
      " |-- play_type: string (nullable = true)\n",
      " |-- recording_id: integer (nullable = true)\n",
      " |-- release_date: date (nullable = true)\n",
      " |-- release_group_id: integer (nullable = true)\n",
      " |-- release_id: integer (nullable = true)\n",
      " |-- rotation_status: string (nullable = true)\n",
      " |-- show: integer (nullable = true)\n",
      " |-- show_uri: string (nullable = true)\n",
      " |-- song: string (nullable = true)\n",
      " |-- thumbnail_uri: string (nullable = true)\n",
      " |-- track_id: integer (nullable = true)\n",
      " |-- uri: string (nullable = true)\n",
      " |-- bronze_source: string (nullable = true)\n",
      " |-- bronze_created_timestamp: timestamp (nullable = true)\n",
      " |-- bronze_modified_timestamp: timestamp (nullable = true)\n",
      "\n"
     ]
    }
   ],
   "source": [
    "catalog.get_data_frame(\"bronze\", \"KEXP_PLAYLIST\").printSchema()"
   ],
   "metadata": {
    "collapsed": false,
    "ExecuteTime": {
     "start_time": "2023-04-12T22:22:39.820266Z",
     "end_time": "2023-04-12T22:22:39.829153Z"
    }
   }
  },
  {
   "cell_type": "code",
   "execution_count": 10,
   "outputs": [
    {
     "name": "stdout",
     "output_type": "stream",
     "text": [
      "+-------+----------------+\n",
      "|     id|size(artist_ids)|\n",
      "+-------+----------------+\n",
      "|3179283|               4|\n",
      "|3179541|               3|\n",
      "|3179286|               3|\n",
      "|3179352|               3|\n",
      "|3179232|               3|\n",
      "|3179328|               3|\n",
      "|3179214|               3|\n",
      "|3179156|               3|\n",
      "|3179132|               3|\n",
      "|3179398|               3|\n",
      "|3179510|               2|\n",
      "|3179539|               2|\n",
      "|3179330|               2|\n",
      "|3179537|               2|\n",
      "|3179454|               2|\n",
      "|3179342|               2|\n",
      "|3179367|               2|\n",
      "|3179420|               2|\n",
      "|3179336|               2|\n",
      "|3179418|               2|\n",
      "+-------+----------------+\n",
      "only showing top 20 rows\n",
      "\n"
     ]
    }
   ],
   "source": [
    "catalog.sql(\"select id, size(artist_ids) from KEXP_PLAYLIST order by size(artist_ids) desc\").show()"
   ],
   "metadata": {
    "collapsed": false,
    "ExecuteTime": {
     "start_time": "2023-04-12T22:22:45.306336Z",
     "end_time": "2023-04-12T22:22:45.508551Z"
    }
   }
  },
  {
   "cell_type": "markdown",
   "source": [],
   "metadata": {
    "collapsed": false
   }
  },
  {
   "cell_type": "code",
   "execution_count": 14,
   "outputs": [],
   "source": [
    "kexp_playlist = catalog.get_data_frame(\"bronze\", \"KEXP_PLAYLIST\")"
   ],
   "metadata": {
    "collapsed": false,
    "ExecuteTime": {
     "start_time": "2023-04-12T22:25:51.232220Z",
     "end_time": "2023-04-12T22:25:51.238252Z"
    }
   }
  },
  {
   "cell_type": "markdown",
   "source": [],
   "metadata": {
    "collapsed": false
   }
  },
  {
   "cell_type": "code",
   "execution_count": 15,
   "outputs": [],
   "source": [
    "artist = catalog.get_data_frame(\"silver\", \"ARTIST\")"
   ],
   "metadata": {
    "collapsed": false,
    "ExecuteTime": {
     "start_time": "2023-04-12T22:25:54.865574Z",
     "end_time": "2023-04-12T22:25:54.875476Z"
    }
   }
  },
  {
   "cell_type": "code",
   "execution_count": 18,
   "outputs": [
    {
     "name": "stdout",
     "output_type": "stream",
     "text": [
      "+------------------------------------+----------------------------------------------+\n",
      "|id                                  |artist                                        |\n",
      "+------------------------------------+----------------------------------------------+\n",
      "|aa8fc4e5-5332-438a-ba29-51f57a55b084|A Certain Ratio feat. Ellen Beth Abdi         |\n",
      "|73577e86-4da8-4d76-949d-34c757e053be|A Certain Ratio feat. Ellen Beth Abdi         |\n",
      "|b7c20887-5042-451d-ac3c-772e25cbe9d8|ABRA                                          |\n",
      "|bc85da58-52d9-457d-ae8d-5d8d4ec870a9|Aaliyah feat. Timbaland                       |\n",
      "|daa09819-5da5-4c7a-8bef-eb372bb27ff1|Aaliyah feat. Timbaland                       |\n",
      "|ba1f396f-eb2c-45bb-9949-973ca060fc86|Abstract Rude + Tribe Unique                  |\n",
      "|dbd1b11b-0ab2-4afd-8264-c2909237b6fb|Aceyalone                                     |\n",
      "|f32e763e-be49-44e2-bde0-27c8e5686992|Acid Arab feat. Sofiane Saidi                 |\n",
      "|8d2a9009-ae32-47fb-b39b-df2861426381|Acid Arab feat. Sofiane Saidi                 |\n",
      "|aba64937-3334-4c65-90a1-4e6b9d4d7ada|Aesop Rock                                    |\n",
      "|cb67438a-7f50-4f2b-a6f1-2bb2729fd538|Air                                           |\n",
      "|16e763f2-d85d-4fd8-a9c4-929d3af41946|Alex Lahey                                    |\n",
      "|fd59ba44-e06e-48d0-9555-78cd7cb8d5ae|Algiers feat. Nadah El Shazly                 |\n",
      "|258e8672-1db1-469a-a505-00a42aaf0973|Algiers feat. Nadah El Shazly                 |\n",
      "|258e8672-1db1-469a-a505-00a42aaf0973|Algiers feat. Samuel T. Herring & Jae Matthews|\n",
      "|9d5e9b8b-6cad-409b-9582-3415e8c7d907|Algiers feat. Samuel T. Herring & Jae Matthews|\n",
      "|e431f1c5-6a9f-415c-80bb-937d20a4ac08|Algiers feat. Samuel T. Herring & Jae Matthews|\n",
      "|9be2a5ac-8201-489b-b5f6-91f958bf9060|Ali Farka Touré                               |\n",
      "|5e00c39c-9c65-420f-aa26-d68f414a74c6|Alison Goldfrapp & Paul Woolford              |\n",
      "|c61547d5-d8e5-4142-bf9c-7107c233eb6b|Alison Goldfrapp & Paul Woolford              |\n",
      "+------------------------------------+----------------------------------------------+\n",
      "only showing top 20 rows\n",
      "\n"
     ]
    }
   ],
   "source": [
    "artist.show(20, False)"
   ],
   "metadata": {
    "collapsed": false,
    "ExecuteTime": {
     "start_time": "2023-04-12T22:29:00.946677Z",
     "end_time": "2023-04-12T22:29:01.061033Z"
    }
   }
  },
  {
   "cell_type": "code",
   "execution_count": 32,
   "outputs": [
    {
     "name": "stdout",
     "output_type": "stream",
     "text": [
      "+--------------------------------+--------+\n",
      "|artist                          |count(1)|\n",
      "+--------------------------------+--------+\n",
      "|Little Dragon                   |4       |\n",
      "|Screaming Females               |4       |\n",
      "|Vieux Farka Touré               |4       |\n",
      "|Herbie Hancock                  |4       |\n",
      "|Dinner Party feat. Arin Ray     |3       |\n",
      "|Hannah Jadagu                   |3       |\n",
      "|Arlo Parks                      |3       |\n",
      "|De La Soul                      |3       |\n",
      "|Caroline Polachek               |3       |\n",
      "|Jungle feat. Erick the Architect|3       |\n",
      "|U.S. Girls                      |3       |\n",
      "|Yaeji                           |3       |\n",
      "|Blondshell                      |3       |\n",
      "|Dilated Peoples                 |3       |\n",
      "|M83                             |2       |\n",
      "|Hole                            |2       |\n",
      "|OutKast                         |2       |\n",
      "|The National                    |2       |\n",
      "|Fort Romeau                     |2       |\n",
      "|SAULT                           |2       |\n",
      "+--------------------------------+--------+\n",
      "only showing top 20 rows\n",
      "\n"
     ]
    }
   ],
   "source": [
    "catalog.sql('select artist, count(*)'\n",
    "            ' from KEXP_PLAYLIST'\n",
    "            ' where artist is not null'\n",
    "            ' group by artist'\n",
    "            ' order by count(*) desc').show(20, False)"
   ],
   "metadata": {
    "collapsed": false,
    "ExecuteTime": {
     "start_time": "2023-04-12T22:37:03.958476Z",
     "end_time": "2023-04-12T22:37:04.151312Z"
    }
   }
  },
  {
   "cell_type": "code",
   "execution_count": null,
   "outputs": [],
   "source": [],
   "metadata": {
    "collapsed": false
   }
  }
 ],
 "metadata": {
  "kernelspec": {
   "display_name": "Python 3",
   "language": "python",
   "name": "python3"
  },
  "language_info": {
   "codemirror_mode": {
    "name": "ipython",
    "version": 2
   },
   "file_extension": ".py",
   "mimetype": "text/x-python",
   "name": "python",
   "nbconvert_exporter": "python",
   "pygments_lexer": "ipython2",
   "version": "2.7.6"
  }
 },
 "nbformat": 4,
 "nbformat_minor": 0
}
