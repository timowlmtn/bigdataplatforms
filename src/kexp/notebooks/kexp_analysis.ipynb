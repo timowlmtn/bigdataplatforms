{
 "cells": [
  {
   "cell_type": "code",
   "execution_count": 1,
   "metadata": {
    "collapsed": true
   },
   "outputs": [],
   "source": [
    "import spark_catalog\n",
    "import duckdb"
   ]
  },
  {
   "cell_type": "code",
   "execution_count": 2,
   "outputs": [
    {
     "name": "stdout",
     "output_type": "stream",
     "text": [
      ":: loading settings :: url = jar:file:/Users/timburns/Documents/PythonProjects/.pyenv/kexp/lib/python3.9/site-packages/pyspark/jars/ivy-2.5.1.jar!/org/apache/ivy/core/settings/ivysettings.xml\n"
     ]
    },
    {
     "name": "stderr",
     "output_type": "stream",
     "text": [
      "Ivy Default Cache set to: /Users/timburns/.ivy2/cache\n",
      "The jars for the packages stored in: /Users/timburns/.ivy2/jars\n",
      "io.delta#delta-core_2.12 added as a dependency\n",
      ":: resolving dependencies :: org.apache.spark#spark-submit-parent-6b85d48d-40a0-4bf6-89b2-3a6201e461b5;1.0\n",
      "\tconfs: [default]\n",
      "\tfound io.delta#delta-core_2.12;2.3.0 in central\n",
      "\tfound io.delta#delta-storage;2.3.0 in central\n",
      "\tfound org.antlr#antlr4-runtime;4.8 in central\n",
      ":: resolution report :: resolve 134ms :: artifacts dl 6ms\n",
      "\t:: modules in use:\n",
      "\tio.delta#delta-core_2.12;2.3.0 from central in [default]\n",
      "\tio.delta#delta-storage;2.3.0 from central in [default]\n",
      "\torg.antlr#antlr4-runtime;4.8 from central in [default]\n",
      "\t---------------------------------------------------------------------\n",
      "\t|                  |            modules            ||   artifacts   |\n",
      "\t|       conf       | number| search|dwnlded|evicted|| number|dwnlded|\n",
      "\t---------------------------------------------------------------------\n",
      "\t|      default     |   3   |   0   |   0   |   0   ||   3   |   0   |\n",
      "\t---------------------------------------------------------------------\n",
      ":: retrieving :: org.apache.spark#spark-submit-parent-6b85d48d-40a0-4bf6-89b2-3a6201e461b5\n",
      "\tconfs: [default]\n",
      "\t0 artifacts copied, 3 already retrieved (0kB/4ms)\n"
     ]
    },
    {
     "name": "stdout",
     "output_type": "stream",
     "text": [
      "23/04/09 20:28:59 WARN NativeCodeLoader: Unable to load native-hadoop library for your platform... using builtin-java classes where applicable\n"
     ]
    },
    {
     "name": "stderr",
     "output_type": "stream",
     "text": [
      "Setting default log level to \"WARN\".\n",
      "To adjust logging level use sc.setLogLevel(newLevel). For SparkR, use setLogLevel(newLevel).\n",
      "/Users/timburns/Documents/PythonProjects/.pyenv/kexp/lib/python3.9/site-packages/pyspark/sql/context.py:112: FutureWarning: Deprecated in 3.0.0. Use SparkSession.builder.getOrCreate() instead.\n",
      "  warnings.warn(\n"
     ]
    }
   ],
   "source": [
    "catalog = spark_catalog.SparkCatalog(app_name=\"kexp\", lake_location=\"../../../data/spark/kexp\")"
   ],
   "metadata": {
    "collapsed": false
   }
  },
  {
   "cell_type": "code",
   "execution_count": 3,
   "outputs": [
    {
     "name": "stderr",
     "output_type": "stream",
     "text": [
      "                                                                                \r"
     ]
    }
   ],
   "source": [
    "kexp_playlist = catalog.get_data_frame(\"bronze\", \"KEXP_PLAYLIST\")"
   ],
   "metadata": {
    "collapsed": false
   }
  },
  {
   "cell_type": "code",
   "execution_count": 4,
   "outputs": [
    {
     "name": "stdout",
     "output_type": "stream",
     "text": [
      "23/04/09 20:29:07 WARN package: Truncated the string representation of a plan since it was too large. This behavior can be adjusted by setting 'spark.sql.debug.maxToStringFields'.\n"
     ]
    },
    {
     "name": "stderr",
     "output_type": "stream",
     "text": [
      "                                                                                \r"
     ]
    },
    {
     "name": "stdout",
     "output_type": "stream",
     "text": [
      "+--------------------+--------------------+--------------------+--------------------+--------------------+-------+--------------------+-------+--------+----------+--------------------+--------------------+---------+--------------------+------------+--------------------+--------------------+---------------+-----+--------------------+--------------------+--------------------+--------------------+--------------------+\n",
      "|             airdate|               album|              artist|          artist_ids|             comment|     id|           image_uri|is_live|is_local|is_request|           label_ids|              labels|play_type|        recording_id|release_date|    release_group_id|          release_id|rotation_status| show|            show_uri|                song|       thumbnail_uri|            track_id|                 uri|\n",
      "+--------------------+--------------------+--------------------+--------------------+--------------------+-------+--------------------+-------+--------+----------+--------------------+--------------------+---------+--------------------+------------+--------------------+--------------------+---------------+-----+--------------------+--------------------+--------------------+--------------------+--------------------+\n",
      "|2023-04-07T15:06:...|         Tisched Off|Bartees Strange f...|[56cbef7f-3320-45...|The second single...|3177448|                    |  false|   false|     false|[38dc88de-7720-41...|   [Sub Pop Records]|trackplay|5d8469bc-10a0-4f5...|  2023-02-08|ce5239db-cb82-498...|c3ab18c0-3744-438...|         Medium|56637|https://api.kexp....|           Keekee'in|                    |9a11c1f8-24b1-414...|https://api.kexp....|\n",
      "|2023-04-07T15:05:...|    Music To Go Nuts|  Judy and the Jerks|[4cc23f20-0e93-49...|Support independe...|3177447|                    |  false|   false|     false|                  []|                  []|trackplay|9ca2b5dd-135d-454...|  2022-01-01|1a5024d9-39e6-470...|                null|           null|56637|https://api.kexp....|          California|                    |                null|https://api.kexp....|\n",
      "|2023-04-07T15:02:...|Praise A Lord Who...|          Yves Tumor|[b675f327-4738-4a...|Yves Tumor will p...|3177446|https://ia601604....|  false|   false|     false|[46f0f4cd-8aab-4b...|              [Warp]|trackplay|0ba2dd0e-964d-4b8...|  2023-03-17|7a7d42ce-73e2-433...|6fb339e9-5fe3-404...|          Heavy|56637|https://api.kexp....|           Ebony Eye|https://ia801604....|7279cb21-0814-4bf...|https://api.kexp....|\n",
      "|2023-04-07T14:59:...|         London Brew|         London Brew|[b9ba06b7-953d-41...|From the upcoming...|3177445|https://ia801607....|  false|   false|     false|[5f42fd65-a55b-40...|          [Downtown]|trackplay|9044b3a2-7293-498...|  2023-03-31|19cc1099-f61d-457...|c6204bc0-688e-4ba...|         Medium|56637|https://api.kexp....|Miles Chases New ...|https://ia801607....|5c78f947-6327-47b...|https://api.kexp....|\n",
      "|2023-04-07T14:55:...|                null|                null|                null|                    |3177444|                    |   null|    null|      null|                null|                null| airbreak|                null|        null|                null|                null|           null|56637|https://api.kexp....|                null|                    |                null|https://api.kexp....|\n",
      "|2023-04-07T14:50:...|good kid, m.A.A.d...|      Kendrick Lamar|[381086ea-f511-4a...|On October 22, 20...|3177443|https://ia802908....|  false|   false|     false|[c0629488-2aa2-4b...|[Aftermath Entert...|trackplay|7dee4afc-5931-429...|  2012-10-22|499c19c8-0dab-482...|5d850f71-e51e-44b...|           null|56637|https://api.kexp....|Swimming Pools (D...|https://ia802908....|2e0df39b-09ce-39f...|https://api.kexp....|\n",
      "|2023-04-07T14:42:...|   The Narcissist II|          Dean Blunt|[e8bd5b47-e8b4-46...|\"Achieving the ki...|3177442|                    |  false|   false|     false|[514fc9ba-ebd1-42...|   [Hippos in Tanks]|trackplay|b49b58f2-e842-403...|  2012-02-19|4f863863-35f7-4cb...|                null|           null|56637|https://api.kexp....|       Direct Line 2|                    |                null|https://api.kexp....|\n",
      "|2023-04-07T14:40:...|                null|                null|                null|                    |3177441|                    |   null|    null|      null|                null|                null| airbreak|                null|        null|                null|                null|           null|56637|https://api.kexp....|                null|                    |                null|https://api.kexp....|\n",
      "|2023-04-07T14:32:...|      Channel Orange|         Frank Ocean|[e520459c-dff4-49...|In 2012's “Sierra...|3177440|https://ia801907....|  false|   false|     false|[a92d1684-4edb-48...|[Def Jam Recordings]|trackplay|e5743152-57f0-4a3...|  2012-07-10|f8f4167d-897c-4b2...|241be558-9801-43e...|           null|56637|https://api.kexp....|        Sierra Leone|https://ia801907....|1c5f10f9-cc38-332...|https://api.kexp....|\n",
      "|2023-04-07T14:28:...|  The OF Tape Vol. 2|Tyler, the Creato...|[f6beac20-5dfe-4d...|The OF Tape Vol. ...|3177439|https://coverarta...|  false|   false|     false|[f3b593d5-18b6-41...|           [OFWGKTA]|trackplay|1bf206d7-0e01-45b...|  2012-03-16|7abcd98a-3981-430...|                null|           null|56637|https://api.kexp....|            Analog 2|https://coverarta...|                null|https://api.kexp....|\n",
      "|2023-04-07T14:20:...|                null|                null|                null|                    |3177438|                    |   null|    null|      null|                null|                null| airbreak|                null|        null|                null|                null|           null|56637|https://api.kexp....|                null|                    |                null|https://api.kexp....|\n",
      "|2023-04-07T14:18:...|        God's Father|               Lil B|[1550f952-c91b-40...|In 2012, The New ...|3177437|                    |  false|   false|     false|[403c59c1-8fdf-4a...|[BasedWorld Records]|trackplay|b5627854-9201-4e6...|        null|                null|                null|           null|56637|https://api.kexp....|    Bitch I'm Bussin|                    |                null|https://api.kexp....|\n",
      "|2023-04-07T14:12:...|                null|                null|                null|                    |3177436|                    |   null|    null|      null|                null|                null| airbreak|                null|        null|                null|                null|           null|56637|https://api.kexp....|                null|                    |                null|https://api.kexp....|\n",
      "|2023-04-07T14:09:...|        Finally Rich|          Chief Keef|[9118f524-be76-4e...|\"Love Sosa\" is th...|3177435|https://coverarta...|  false|   false|     false|[2182a316-c4bd-46...|[Interscope Records]|trackplay|464d6247-f57b-4e3...|  2012-12-14|249eeae3-9e0f-4d1...|                null|           null|56637|https://api.kexp....|           Love Sosa|https://coverarta...|                null|https://api.kexp....|\n",
      "|2023-04-07T14:04:...|                null|                null|                null|It's the Friday F...|3177434|                    |   null|    null|      null|                null|                null| airbreak|                null|        null|                null|                null|           null|56637|https://api.kexp....|                null|                    |                null|https://api.kexp....|\n",
      "|2023-04-07T13:59:...|The Best of the F...|    Mongo Santamaria|                  []|Jazz classic by m...|3177433|                    |  false|   false|     false|                  []|                  []|trackplay|7fe3c86d-01e2-4c7...|  2001-08-21|9ea362cb-82db-38c...|                null|           null|56637|https://api.kexp....|             Sofrito|                    |                null|https://api.kexp....|\n",
      "|2023-04-07T13:55:...|Girl in the Half ...|               Liv.e|[0bcfef47-91d0-41...|The latest album ...|3177432|https://ia804705....|  false|   false|     false|[39a43c68-ae4e-44...|      [In Real Life]|trackplay|b565b99d-dd07-4bf...|  2023-02-10|fe55a441-e0f3-409...|9cfe86f9-b28b-4e7...|          Heavy|56637|https://api.kexp....|        Wild Animals|https://ia804705....|0a537298-715d-481...|https://api.kexp....|\n",
      "|2023-04-07T13:50:...|  In Search of Manny|    Luscious Jackson|[8be5d1de-e925-4e...|  RIP Vivian Trimble|3177430|https://ia600303....|  false|   false|     false|[9844e78d-d74a-47...|       [Grand Royal]|trackplay|48311d00-588d-4e6...|  1993-04-07|c021d3c3-4775-303...|1e1a8653-3b2b-306...|           null|56637|https://api.kexp....|     Life of Leisure|https://ia600303....|2aacfec8-0bb1-348...|https://api.kexp....|\n",
      "|2023-04-07T13:48:...|                null|                null|                null|                    |3177431|                    |   null|    null|      null|                null|                null| airbreak|                null|        null|                null|                null|           null|56637|https://api.kexp....|                null|                    |                null|https://api.kexp....|\n",
      "|2023-04-07T13:44:...|  I'm Feeling Myself|    Luscious Jackson|[8be5d1de-e925-4e...|Luscious Jackson ...|3177429|                    |  false|   false|     false|[9844e78d-d74a-47...|[Grand Royal, Gra...|trackplay|88b4f909-0358-44b...|  1999-04-07|24156b6d-299d-453...|e5d3f089-8e6f-4cf...|           null|56637|https://api.kexp....|Nervous Breakthrough|                    |a2d32514-e13c-471...|https://api.kexp....|\n",
      "+--------------------+--------------------+--------------------+--------------------+--------------------+-------+--------------------+-------+--------+----------+--------------------+--------------------+---------+--------------------+------------+--------------------+--------------------+---------------+-----+--------------------+--------------------+--------------------+--------------------+--------------------+\n",
      "only showing top 20 rows\n",
      "\n"
     ]
    }
   ],
   "source": [
    "kexp_playlist.show()"
   ],
   "metadata": {
    "collapsed": false
   }
  },
  {
   "cell_type": "code",
   "execution_count": 7,
   "outputs": [
    {
     "name": "stdout",
     "output_type": "stream",
     "text": [
      "+----------+\n",
      "|play_count|\n",
      "+----------+\n",
      "|       863|\n",
      "+----------+\n",
      "\n"
     ]
    },
    {
     "name": "stderr",
     "output_type": "stream",
     "text": [
      "                                                                                \r"
     ]
    }
   ],
   "source": [
    "catalog.sql(\"select count(*) as play_count from KEXP_PLAYLIST\").show()"
   ],
   "metadata": {
    "collapsed": false
   }
  },
  {
   "cell_type": "code",
   "execution_count": 13,
   "outputs": [
    {
     "name": "stdout",
     "output_type": "stream",
     "text": [
      "+-------+--------------------+--------------------+--------------------+-----+\n",
      "|     id|             airdate|              artist|                song| show|\n",
      "+-------+--------------------+--------------------+--------------------+-----+\n",
      "|3178537|2023-04-10T06:11:...|               M.E.B|    Bitches Are Back|56663|\n",
      "|3178536|2023-04-10T06:08:...|El Michels Affair...|            Grateful|56663|\n",
      "|3178535|2023-04-10T06:03:...|        Public Enemy|Welcome to the Te...|56663|\n",
      "|3178534|2023-04-10T06:03:...|                null|                null|56663|\n",
      "|3178533|2023-04-10T05:59:...|Duval Timothy fea...|                 Kam|56663|\n",
      "|3178532|2023-04-10T05:56:...|Petite Noir feat....|       Simple Things|56663|\n",
      "|3178531|2023-04-10T05:52:...|Everything Is Rec...| Close But Not Quite|56663|\n",
      "|3178530|2023-04-10T05:49:...|     Curtis Mayfield|  The Makings of You|56663|\n",
      "|3178528|2023-04-10T05:46:...|         Brother Ali|      Dear Black Son|56663|\n",
      "|3178527|2023-04-10T05:43:...|         Brother Ali|              Faheem|56663|\n",
      "|3178526|2023-04-10T05:41:...|                null|                null|56663|\n",
      "|3178525|2023-04-10T05:37:...|           Akua Naru|              Serena|56663|\n",
      "|3178524|2023-04-10T05:33:...|           Adi Oasis|              Serena|56663|\n",
      "|3178523|2023-04-10T05:30:...|        Yazmin Lacey|              Legacy|56663|\n",
      "|3178522|2023-04-10T05:27:...|Gorillaz feat. De...|         Crocadillaz|56663|\n",
      "|3178521|2023-04-10T05:24:...|                null|                null|56663|\n",
      "|3178520|2023-04-10T05:17:...|Robert Glasper fe...|        Why We Speak|56663|\n",
      "|3178519|2023-04-10T05:12:...|The RH Factor fea...|              Poetry|56663|\n",
      "|3178518|2023-04-10T05:08:...|Janet feat. Q‐Tip...|  Got ’til It’s Gone|56663|\n",
      "|3178517|2023-04-10T05:04:...|A Tribe Called Quest|Award Tour (radio...|56663|\n",
      "+-------+--------------------+--------------------+--------------------+-----+\n",
      "only showing top 20 rows\n",
      "\n"
     ]
    }
   ],
   "source": [
    "catalog.sql(\"select id, airdate, artist, song, show from KEXP_PLAYLIST order by id desc\").show()"
   ],
   "metadata": {
    "collapsed": false
   }
  },
  {
   "cell_type": "code",
   "execution_count": 14,
   "outputs": [
    {
     "name": "stdout",
     "output_type": "stream",
     "text": [
      "root\n",
      " |-- airdate: string (nullable = true)\n",
      " |-- album: string (nullable = true)\n",
      " |-- artist: string (nullable = true)\n",
      " |-- artist_ids: string (nullable = true)\n",
      " |-- comment: string (nullable = true)\n",
      " |-- id: string (nullable = true)\n",
      " |-- image_uri: string (nullable = true)\n",
      " |-- is_live: string (nullable = true)\n",
      " |-- is_local: string (nullable = true)\n",
      " |-- is_request: string (nullable = true)\n",
      " |-- label_ids: string (nullable = true)\n",
      " |-- labels: string (nullable = true)\n",
      " |-- play_type: string (nullable = true)\n",
      " |-- recording_id: string (nullable = true)\n",
      " |-- release_date: string (nullable = true)\n",
      " |-- release_group_id: string (nullable = true)\n",
      " |-- release_id: string (nullable = true)\n",
      " |-- rotation_status: string (nullable = true)\n",
      " |-- show: string (nullable = true)\n",
      " |-- show_uri: string (nullable = true)\n",
      " |-- song: string (nullable = true)\n",
      " |-- thumbnail_uri: string (nullable = true)\n",
      " |-- track_id: string (nullable = true)\n",
      " |-- uri: string (nullable = true)\n",
      "\n"
     ]
    }
   ],
   "source": [
    "catalog.get_data_frame(\"bronze\", \"KEXP_PLAYLIST\").printSchema()"
   ],
   "metadata": {
    "collapsed": false
   }
  },
  {
   "cell_type": "code",
   "execution_count": null,
   "outputs": [],
   "source": [],
   "metadata": {
    "collapsed": false
   }
  }
 ],
 "metadata": {
  "kernelspec": {
   "display_name": "Python 3",
   "language": "python",
   "name": "python3"
  },
  "language_info": {
   "codemirror_mode": {
    "name": "ipython",
    "version": 2
   },
   "file_extension": ".py",
   "mimetype": "text/x-python",
   "name": "python",
   "nbconvert_exporter": "python",
   "pygments_lexer": "ipython2",
   "version": "2.7.6"
  }
 },
 "nbformat": 4,
 "nbformat_minor": 0
}
