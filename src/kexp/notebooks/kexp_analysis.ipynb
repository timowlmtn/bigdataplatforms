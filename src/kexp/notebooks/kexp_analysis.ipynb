{
 "cells": [
  {
   "cell_type": "code",
   "execution_count": 1,
   "metadata": {
    "collapsed": true
   },
   "outputs": [],
   "source": [
    "import spark_catalog\n",
    "import duckdb"
   ]
  },
  {
   "cell_type": "code",
   "execution_count": 2,
   "outputs": [
    {
     "name": "stdout",
     "output_type": "stream",
     "text": [
      ":: loading settings :: url = jar:file:/Users/timburns/Documents/PythonProjects/.pyenv/kexp/lib/python3.9/site-packages/pyspark/jars/ivy-2.5.1.jar!/org/apache/ivy/core/settings/ivysettings.xml\n"
     ]
    },
    {
     "name": "stderr",
     "output_type": "stream",
     "text": [
      "Ivy Default Cache set to: /Users/timburns/.ivy2/cache\n",
      "The jars for the packages stored in: /Users/timburns/.ivy2/jars\n",
      "io.delta#delta-core_2.12 added as a dependency\n",
      ":: resolving dependencies :: org.apache.spark#spark-submit-parent-bfd4bd23-d587-4817-88db-a8cec35a6c1f;1.0\n",
      "\tconfs: [default]\n",
      "\tfound io.delta#delta-core_2.12;2.3.0 in central\n",
      "\tfound io.delta#delta-storage;2.3.0 in central\n",
      "\tfound org.antlr#antlr4-runtime;4.8 in central\n",
      ":: resolution report :: resolve 134ms :: artifacts dl 6ms\n",
      "\t:: modules in use:\n",
      "\tio.delta#delta-core_2.12;2.3.0 from central in [default]\n",
      "\tio.delta#delta-storage;2.3.0 from central in [default]\n",
      "\torg.antlr#antlr4-runtime;4.8 from central in [default]\n",
      "\t---------------------------------------------------------------------\n",
      "\t|                  |            modules            ||   artifacts   |\n",
      "\t|       conf       | number| search|dwnlded|evicted|| number|dwnlded|\n",
      "\t---------------------------------------------------------------------\n",
      "\t|      default     |   3   |   0   |   0   |   0   ||   3   |   0   |\n",
      "\t---------------------------------------------------------------------\n",
      ":: retrieving :: org.apache.spark#spark-submit-parent-bfd4bd23-d587-4817-88db-a8cec35a6c1f\n",
      "\tconfs: [default]\n",
      "\t0 artifacts copied, 3 already retrieved (0kB/4ms)\n"
     ]
    },
    {
     "name": "stdout",
     "output_type": "stream",
     "text": [
      "23/04/12 12:34:31 WARN NativeCodeLoader: Unable to load native-hadoop library for your platform... using builtin-java classes where applicable\n"
     ]
    },
    {
     "name": "stderr",
     "output_type": "stream",
     "text": [
      "Setting default log level to \"WARN\".\n",
      "To adjust logging level use sc.setLogLevel(newLevel). For SparkR, use setLogLevel(newLevel).\n"
     ]
    },
    {
     "name": "stdout",
     "output_type": "stream",
     "text": [
      "23/04/12 12:34:32 WARN Utils: Service 'SparkUI' could not bind on port 4040. Attempting port 4041.\n"
     ]
    },
    {
     "name": "stderr",
     "output_type": "stream",
     "text": [
      "/Users/timburns/Documents/PythonProjects/.pyenv/kexp/lib/python3.9/site-packages/pyspark/sql/context.py:112: FutureWarning: Deprecated in 3.0.0. Use SparkSession.builder.getOrCreate() instead.\n",
      "  warnings.warn(\n"
     ]
    }
   ],
   "source": [
    "catalog = spark_catalog.SparkCatalog(app_name=\"kexp\", lake_location=\"../../../data/spark/kexp\")"
   ],
   "metadata": {
    "collapsed": false
   }
  },
  {
   "cell_type": "code",
   "execution_count": 3,
   "outputs": [
    {
     "name": "stderr",
     "output_type": "stream",
     "text": [
      "                                                                                \r"
     ]
    },
    {
     "name": "stdout",
     "output_type": "stream",
     "text": [
      "23/04/12 12:34:44 WARN package: Truncated the string representation of a plan since it was too large. This behavior can be adjusted by setting 'spark.sql.debug.maxToStringFields'.\n"
     ]
    }
   ],
   "source": [
    "kexp_playlist = catalog.get_data_frame(\"bronze\", \"KEXP_PLAYLIST\")"
   ],
   "metadata": {
    "collapsed": false
   }
  },
  {
   "cell_type": "code",
   "execution_count": 10,
   "outputs": [],
   "source": [
    "kexp_playlist.show()"
   ],
   "metadata": {
    "collapsed": false
   }
  },
  {
   "cell_type": "code",
   "execution_count": 11,
   "outputs": [],
   "source": [
    "catalog.sql(\"select count(*) as play_count from KEXP_PLAYLIST\").show()"
   ],
   "metadata": {
    "collapsed": false
   }
  },
  {
   "cell_type": "code",
   "execution_count": 12,
   "outputs": [],
   "source": [
    "catalog.sql(\"select id, airdate, artist, song, show from KEXP_PLAYLIST order by id desc\").show()"
   ],
   "metadata": {
    "collapsed": false
   }
  },
  {
   "cell_type": "code",
   "execution_count": 21,
   "outputs": [
    {
     "name": "stderr",
     "output_type": "stream",
     "text": [
      "[Stage 108:==============>                                          (2 + 6) / 8]\r"
     ]
    },
    {
     "name": "stdout",
     "output_type": "stream",
     "text": [
      "+------------+-----------------+-----------------------+----------------------+\n",
      "|program_name|            genre|count(DISTINCT airdate)|count(DISTINCT artist)|\n",
      "+------------+-----------------+-----------------------+----------------------+\n",
      "|     90.TEEN|         Eclectic|                     20|                    14|\n",
      "|     90.TEEN|             Rock|                     20|                    14|\n",
      "|     90.TEEN|      Variety Mix|                     20|                    14|\n",
      "|   Audioasis|         Eclectic|                     49|                    38|\n",
      "|   Audioasis|Pacific Northwest|                     49|                    38|\n",
      "|   Audioasis|             Rock|                     49|                    38|\n",
      "|  Drive Time|         Eclectic|                    163|                   119|\n",
      "|  Drive Time|             Rock|                    163|                   119|\n",
      "|  Drive Time|      Variety Mix|                    163|                   119|\n",
      "|       Early|         Eclectic|                    132|                    95|\n",
      "|       Early|             Rock|                    132|                    95|\n",
      "|       Early|      Variety Mix|                    132|                    95|\n",
      "|   El Sonido|            Latin|                     42|                    33|\n",
      "|   El Sonido|            World|                     42|                    33|\n",
      "|  Expansions|       Electronic|                     39|                    31|\n",
      "|Friday Night|         Eclectic|                     55|                    43|\n",
      "|Friday Night|             Rock|                     55|                    43|\n",
      "|Friday Night|      Variety Mix|                     55|                    43|\n",
      "|Jazz Theatre|             Jazz|                     29|                    17|\n",
      "|Live on KEXP|         Eclectic|                      7|                     4|\n",
      "+------------+-----------------+-----------------------+----------------------+\n",
      "only showing top 20 rows\n",
      "\n"
     ]
    },
    {
     "name": "stderr",
     "output_type": "stream",
     "text": [
      "                                                                                \r"
     ]
    }
   ],
   "source": [
    "catalog.get_data_frame(\"bronze\", \"KEXP_PLAYLIST\").printSchema()"
   ],
   "metadata": {
    "collapsed": false
   }
  },
  {
   "cell_type": "code",
   "execution_count": 22,
   "outputs": [
    {
     "name": "stderr",
     "output_type": "stream",
     "text": [
      "                                                                                \r"
     ]
    },
    {
     "name": "stdout",
     "output_type": "stream",
     "text": [
      "+-----------------+-----------------------+----------------------+\n",
      "|            genre|count(DISTINCT airdate)|count(DISTINCT artist)|\n",
      "+-----------------+-----------------------+----------------------+\n",
      "|         Afrobeat|                     33|                    27|\n",
      "|            Blues|                    115|                    55|\n",
      "|          Country|                    115|                    55|\n",
      "|               DJ|                     16|                    12|\n",
      "|              EBM|                     17|                    16|\n",
      "|         Eclectic|                   1662|                   952|\n",
      "|       Electronic|                     82|                    65|\n",
      "|          Hip Hop|                     48|                    48|\n",
      "|             Jazz|                     29|                    17|\n",
      "|             KEXP|                     50|                     6|\n",
      "|            Latin|                     42|                    33|\n",
      "|             Live|                      7|                     4|\n",
      "|            Metal|                     28|                    22|\n",
      "|Pacific Northwest|                     49|                    38|\n",
      "|        Post Punk|                     17|                    16|\n",
      "|             Punk|                     81|                    68|\n",
      "|           Reggae|                     69|                    46|\n",
      "|             Rock|                   1748|                  1027|\n",
      "|            Roots|                    115|                    55|\n",
      "|            Synth|                     17|                    16|\n",
      "+-----------------+-----------------------+----------------------+\n",
      "only showing top 20 rows\n",
      "\n"
     ]
    }
   ],
   "source": [
    "catalog.sql(\"select id, size(artist_ids) from KEXP_PLAYLIST order by size(artist_ids) desc\").show()"
   ],
   "metadata": {
    "collapsed": false
   }
  },
  {
   "cell_type": "code",
   "execution_count": 24,
   "outputs": [],
   "source": [
    "catalog.sql(\"select artist, song, album, artist_ids from KEXP_PLAYLIST where ID = 3177634\").show(truncate=False, vertical=True)"
   ],
   "metadata": {
    "collapsed": false
   }
  },
  {
   "cell_type": "code",
   "execution_count": 25,
   "outputs": [
    {
     "name": "stderr",
     "output_type": "stream",
     "text": [
      "                                                                                \r"
     ]
    },
    {
     "name": "stdout",
     "output_type": "stream",
     "text": [
      "+--------------------+--------------------+-------------+------------------------+-------------------------+\n",
      "|                  id|              artist|silver_source|silver_created_timestamp|silver_modified_timestamp|\n",
      "+--------------------+--------------------+-------------+------------------------+-------------------------+\n",
      "|25302723-b24f-4d0...|     $wingin’ Utter$|KEXP_PLAYLIST|     2023-04-11 18:37:43|      2023-04-11 18:37:43|\n",
      "|5e29d25a-ba6f-402...|                 310|KEXP_PLAYLIST|     2023-04-11 18:37:43|      2023-04-11 18:37:43|\n",
      "|3e63ef4f-93c5-48a...|            38 Spesh|KEXP_PLAYLIST|     2023-04-11 18:37:43|      2023-04-11 18:37:43|\n",
      "|07832b42-8826-4ab...|               6LACK|KEXP_PLAYLIST|     2023-04-11 18:37:43|      2023-04-11 18:37:43|\n",
      "|9d7c95f4-9575-4b7...|           79rs Gang|KEXP_PLAYLIST|     2023-04-11 18:37:43|      2023-04-11 18:37:43|\n",
      "|030c731f-6b7c-407...|            8fatfat8|KEXP_PLAYLIST|     2023-04-11 18:37:43|      2023-04-11 18:37:43|\n",
      "|48513f24-37d5-423...|9th Wonder feat. ...|KEXP_PLAYLIST|     2023-04-11 18:37:43|      2023-04-11 18:37:43|\n",
      "|6b1acf37-0b3b-4cc...|9th Wonder feat. ...|KEXP_PLAYLIST|     2023-04-11 18:37:43|      2023-04-11 18:37:43|\n",
      "|6705519c-4f9b-4e5...|9th Wonder feat. ...|KEXP_PLAYLIST|     2023-04-11 18:37:43|      2023-04-11 18:37:43|\n",
      "|d3253aba-df21-4dc...|9umba, Toss & Mdo...|KEXP_PLAYLIST|     2023-04-11 18:37:43|      2023-04-11 18:37:43|\n",
      "|13bcba23-2fd2-4b7...|9umba, Toss & Mdo...|KEXP_PLAYLIST|     2023-04-11 18:37:43|      2023-04-11 18:37:43|\n",
      "|936c3773-6467-486...|9umba, Toss & Mdo...|KEXP_PLAYLIST|     2023-04-11 18:37:43|      2023-04-11 18:37:43|\n",
      "|7a7b5cfe-24e0-42f...|9umba, Toss & Mdo...|KEXP_PLAYLIST|     2023-04-11 18:37:43|      2023-04-11 18:37:43|\n",
      "|40b8dcd1-6efd-49f...|9umba, Toss & Mdo...|KEXP_PLAYLIST|     2023-04-11 18:37:43|      2023-04-11 18:37:43|\n",
      "|8d3dd2fe-0aac-4a3...|9umba, Toss & Mdo...|KEXP_PLAYLIST|     2023-04-11 18:37:43|      2023-04-11 18:37:43|\n",
      "|e701b534-eea5-4b6...|9umba, Toss & Mdo...|KEXP_PLAYLIST|     2023-04-11 18:37:43|      2023-04-11 18:37:43|\n",
      "|7c745985-26bf-444...|9umba, Toss & Mdo...|KEXP_PLAYLIST|     2023-04-11 18:37:43|      2023-04-11 18:37:43|\n",
      "|c2f465fc-1f81-4d2...|             A House|KEXP_PLAYLIST|     2023-04-11 18:37:43|      2023-04-11 18:37:43|\n",
      "|9689aa5a-4471-4fb...|A Tribe Called Quest|KEXP_PLAYLIST|     2023-04-11 18:37:43|      2023-04-11 18:37:43|\n",
      "|9689aa5a-4471-4fb...|A Tribe Called Qu...|KEXP_PLAYLIST|     2023-04-11 18:37:43|      2023-04-11 18:37:43|\n",
      "+--------------------+--------------------+-------------+------------------------+-------------------------+\n",
      "only showing top 20 rows\n",
      "\n"
     ]
    }
   ],
   "source": [
    "kexp_playlist = catalog.get_data_frame(\"bronze\", \"KEXP_PLAYLIST\")"
   ],
   "metadata": {
    "collapsed": false
   }
  },
  {
   "cell_type": "code",
   "execution_count": 31,
   "outputs": [],
   "source": [
    "from pyspark.sql.functions import explode"
   ],
   "metadata": {
    "collapsed": false
   }
  },
  {
   "cell_type": "code",
   "execution_count": 32,
   "outputs": [
    {
     "name": "stdout",
     "output_type": "stream",
     "text": [
      "+-------------------+--------------------+--------------------+--------------------+--------------------+-------+--------------------+-------+--------+----------+--------------------+--------------------+---------+------------+------------+----------------+----------+---------------+-----+--------------------+--------------------+--------------------+--------+--------------------+\n",
      "|            airdate|               album|              artist|          artist_ids|             comment|     id|           image_uri|is_live|is_local|is_request|           label_ids|              labels|play_type|recording_id|release_date|release_group_id|release_id|rotation_status| show|            show_uri|                song|       thumbnail_uri|track_id|                 uri|\n",
      "+-------------------+--------------------+--------------------+--------------------+--------------------+-------+--------------------+-------+--------+----------+--------------------+--------------------+---------+------------+------------+----------------+----------+---------------+-----+--------------------+--------------------+--------------------+--------+--------------------+\n",
      "|2023-04-07 18:06:34|         Tisched Off|Bartees Strange f...|56cbef7f-3320-45f...|The second single...|3177448|                    |  false|   false|     false|[38dc88de-7720-41...|   [Sub Pop Records]|trackplay|        null|  2023-02-08|            null|      null|         Medium|56637|https://api.kexp....|           Keekee'in|                    |    null|https://api.kexp....|\n",
      "|2023-04-07 18:06:34|         Tisched Off|Bartees Strange f...|9e1ea361-c2cc-45a...|The second single...|3177448|                    |  false|   false|     false|[38dc88de-7720-41...|   [Sub Pop Records]|trackplay|        null|  2023-02-08|            null|      null|         Medium|56637|https://api.kexp....|           Keekee'in|                    |    null|https://api.kexp....|\n",
      "|2023-04-07 18:05:44|    Music To Go Nuts|  Judy and the Jerks|4cc23f20-0e93-499...|Support independe...|3177447|                    |  false|   false|     false|                  []|                  []|trackplay|        null|  2022-01-01|            null|      null|           null|56637|https://api.kexp....|          California|                    |    null|https://api.kexp....|\n",
      "|2023-04-07 18:02:17|Praise A Lord Who...|          Yves Tumor|b675f327-4738-4af...|Yves Tumor will p...|3177446|https://ia601604....|  false|   false|     false|[46f0f4cd-8aab-4b...|              [Warp]|trackplay|        null|  2023-03-17|            null|      null|          Heavy|56637|https://api.kexp....|           Ebony Eye|https://ia801604....|    null|https://api.kexp....|\n",
      "|2023-04-07 17:59:07|         London Brew|         London Brew|b9ba06b7-953d-418...|From the upcoming...|3177445|https://ia801607....|  false|   false|     false|[5f42fd65-a55b-40...|          [Downtown]|trackplay|        null|  2023-03-31|            null|      null|         Medium|56637|https://api.kexp....|Miles Chases New ...|https://ia801607....|    null|https://api.kexp....|\n",
      "|2023-04-07 17:50:19|good kid, m.A.A.d...|      Kendrick Lamar|381086ea-f511-4ab...|On October 22, 20...|3177443|https://ia802908....|  false|   false|     false|[c0629488-2aa2-4b...|[Aftermath Entert...|trackplay|        null|  2012-10-22|            null|      null|           null|56637|https://api.kexp....|Swimming Pools (D...|https://ia802908....|    null|https://api.kexp....|\n",
      "|2023-04-07 17:42:27|   The Narcissist II|          Dean Blunt|e8bd5b47-e8b4-467...|\"Achieving the ki...|3177442|                    |  false|   false|     false|[514fc9ba-ebd1-42...|   [Hippos in Tanks]|trackplay|        null|  2012-02-19|            null|      null|           null|56637|https://api.kexp....|       Direct Line 2|                    |    null|https://api.kexp....|\n",
      "|2023-04-07 17:32:37|      Channel Orange|         Frank Ocean|e520459c-dff4-491...|In 2012's “Sierra...|3177440|https://ia801907....|  false|   false|     false|[a92d1684-4edb-48...|[Def Jam Recordings]|trackplay|        null|  2012-07-10|            null|      null|           null|56637|https://api.kexp....|        Sierra Leone|https://ia801907....|    null|https://api.kexp....|\n",
      "|2023-04-07 17:28:23|  The OF Tape Vol. 2|Tyler, the Creato...|f6beac20-5dfe-4d1...|The OF Tape Vol. ...|3177439|https://coverarta...|  false|   false|     false|[f3b593d5-18b6-41...|           [OFWGKTA]|trackplay|        null|  2012-03-16|            null|      null|           null|56637|https://api.kexp....|            Analog 2|https://coverarta...|    null|https://api.kexp....|\n",
      "|2023-04-07 17:28:23|  The OF Tape Vol. 2|Tyler, the Creato...|e520459c-dff4-491...|The OF Tape Vol. ...|3177439|https://coverarta...|  false|   false|     false|[f3b593d5-18b6-41...|           [OFWGKTA]|trackplay|        null|  2012-03-16|            null|      null|           null|56637|https://api.kexp....|            Analog 2|https://coverarta...|    null|https://api.kexp....|\n",
      "|2023-04-07 17:28:23|  The OF Tape Vol. 2|Tyler, the Creato...|7d3d6c65-e053-465...|The OF Tape Vol. ...|3177439|https://coverarta...|  false|   false|     false|[f3b593d5-18b6-41...|           [OFWGKTA]|trackplay|        null|  2012-03-16|            null|      null|           null|56637|https://api.kexp....|            Analog 2|https://coverarta...|    null|https://api.kexp....|\n",
      "|2023-04-07 17:18:20|        God's Father|               Lil B|1550f952-c91b-40d...|In 2012, The New ...|3177437|                    |  false|   false|     false|[403c59c1-8fdf-4a...|[BasedWorld Records]|trackplay|        null|        null|            null|      null|           null|56637|https://api.kexp....|    Bitch I'm Bussin|                    |    null|https://api.kexp....|\n",
      "|2023-04-07 17:09:08|        Finally Rich|          Chief Keef|9118f524-be76-4ea...|\"Love Sosa\" is th...|3177435|https://coverarta...|  false|   false|     false|[2182a316-c4bd-46...|[Interscope Records]|trackplay|        null|  2012-12-14|            null|      null|           null|56637|https://api.kexp....|           Love Sosa|https://coverarta...|    null|https://api.kexp....|\n",
      "|2023-04-07 16:55:45|Girl in the Half ...|               Liv.e|0bcfef47-91d0-41d...|The latest album ...|3177432|https://ia804705....|  false|   false|     false|[39a43c68-ae4e-44...|      [In Real Life]|trackplay|        null|  2023-02-10|            null|      null|          Heavy|56637|https://api.kexp....|        Wild Animals|https://ia804705....|    null|https://api.kexp....|\n",
      "|2023-04-07 16:50:47|  In Search of Manny|    Luscious Jackson|8be5d1de-e925-4e9...|  RIP Vivian Trimble|3177430|https://ia600303....|  false|   false|     false|[9844e78d-d74a-47...|       [Grand Royal]|trackplay|        null|  1993-04-07|            null|      null|           null|56637|https://api.kexp....|     Life of Leisure|https://ia600303....|    null|https://api.kexp....|\n",
      "|2023-04-07 16:44:28|  I'm Feeling Myself|    Luscious Jackson|8be5d1de-e925-4e9...|Luscious Jackson ...|3177429|                    |  false|   false|     false|[9844e78d-d74a-47...|[Grand Royal, Gra...|trackplay|        null|  1999-04-07|            null|      null|           null|56637|https://api.kexp....|Nervous Breakthrough|                    |    null|https://api.kexp....|\n",
      "|2023-04-07 16:38:51|Mothership Connec...|          Parliament|d1947987-9614-49a...|PARLIAMENT ARE CO...|3177428|https://ia801306....|  false|   false|     false|[98f93684-2a6f-4d...|[Casablanca Records]|trackplay|        null|  1990-02-21|            null|      null|           null|56637|https://api.kexp....|Give Up the Funk ...|https://ia601306....|    null|https://api.kexp....|\n",
      "|2023-04-07 16:35:16|       Foxbase Alpha|       Saint Etienne|3997d4a6-c2bd-419...|This English trio...|3177427|https://ia803203....|  false|   false|     false|[c595c289-47ce-4f...|[Warner Bros. Rec...|trackplay|        null|  1992-01-14|            null|      null|           null|56637|https://api.kexp....|              Spring|https://ia803203....|    null|https://api.kexp....|\n",
      "|2023-04-07 16:31:15|             Flowers|        The Emotions|6ff13427-08ff-4da...|The group was ori...|3177425|https://coverarta...|  false|   false|     false|[011d1192-6f65-45...|          [Columbia]|trackplay|        null|  1976-01-01|            null|      null|           null|56637|https://api.kexp....|             Flowers|https://coverarta...|    null|https://api.kexp....|\n",
      "|2023-04-07 16:27:59|   Outlandos d'Amour|          The Police|9e0e2b01-41db-400...|Released on this ...|3177424|https://ia801603....|  false|   false|     false|[35515729-1f2c-4c...|       [A&M Records]|trackplay|        null|  1978-11-02|            null|      null|        Library|56637|https://api.kexp....|             Roxanne|https://ia801603....|    null|https://api.kexp....|\n",
      "+-------------------+--------------------+--------------------+--------------------+--------------------+-------+--------------------+-------+--------+----------+--------------------+--------------------+---------+------------+------------+----------------+----------+---------------+-----+--------------------+--------------------+--------------------+--------+--------------------+\n",
      "only showing top 20 rows\n",
      "\n"
     ]
    },
    {
     "name": "stderr",
     "output_type": "stream",
     "text": [
      "                                                                                \r"
     ]
    }
   ],
   "source": [
    "kexp_playlist.withColumn(\"artist_ids\", explode(kexp_playlist.artist_ids)).show()"
   ],
   "metadata": {
    "collapsed": false
   }
  },
  {
   "cell_type": "code",
   "execution_count": 36,
   "outputs": [],
   "source": [
    "artist_df = catalog.sql(\"select artist, artist_ids from KEXP_PLAYLIST order by artist\")"
   ],
   "metadata": {
    "collapsed": false
   }
  },
  {
   "cell_type": "code",
   "execution_count": 37,
   "outputs": [
    {
     "name": "stdout",
     "output_type": "stream",
     "text": [
      "+--------------------+--------------------+\n",
      "|              artist|          artist_ids|\n",
      "+--------------------+--------------------+\n",
      "|     $wingin’ Utter$|25302723-b24f-4d0...|\n",
      "|                 310|5e29d25a-ba6f-402...|\n",
      "|            38 Spesh|3e63ef4f-93c5-48a...|\n",
      "|               6LACK|07832b42-8826-4ab...|\n",
      "|           79rs Gang|9d7c95f4-9575-4b7...|\n",
      "|            8fatfat8|030c731f-6b7c-407...|\n",
      "|            8fatfat8|030c731f-6b7c-407...|\n",
      "|9th Wonder feat. ...|48513f24-37d5-423...|\n",
      "|9th Wonder feat. ...|6b1acf37-0b3b-4cc...|\n",
      "|9th Wonder feat. ...|6705519c-4f9b-4e5...|\n",
      "|9umba, Toss & Mdo...|d3253aba-df21-4dc...|\n",
      "|9umba, Toss & Mdo...|13bcba23-2fd2-4b7...|\n",
      "|9umba, Toss & Mdo...|936c3773-6467-486...|\n",
      "|9umba, Toss & Mdo...|7a7b5cfe-24e0-42f...|\n",
      "|9umba, Toss & Mdo...|40b8dcd1-6efd-49f...|\n",
      "|9umba, Toss & Mdo...|8d3dd2fe-0aac-4a3...|\n",
      "|9umba, Toss & Mdo...|e701b534-eea5-4b6...|\n",
      "|9umba, Toss & Mdo...|7c745985-26bf-444...|\n",
      "|             A House|c2f465fc-1f81-4d2...|\n",
      "|A Tribe Called Quest|9689aa5a-4471-4fb...|\n",
      "+--------------------+--------------------+\n",
      "only showing top 20 rows\n",
      "\n"
     ]
    }
   ],
   "source": [
    "artist_df.withColumn(\"artist_ids\", explode(artist_df.artist_ids)).show()"
   ],
   "metadata": {
    "collapsed": false
   }
  },
  {
   "cell_type": "code",
   "execution_count": null,
   "outputs": [],
   "source": [],
   "metadata": {
    "collapsed": false
   }
  }
 ],
 "metadata": {
  "kernelspec": {
   "display_name": "Python 3",
   "language": "python",
   "name": "python3"
  },
  "language_info": {
   "codemirror_mode": {
    "name": "ipython",
    "version": 2
   },
   "file_extension": ".py",
   "mimetype": "text/x-python",
   "name": "python",
   "nbconvert_exporter": "python",
   "pygments_lexer": "ipython2",
   "version": "2.7.6"
  }
 },
 "nbformat": 4,
 "nbformat_minor": 0
}
