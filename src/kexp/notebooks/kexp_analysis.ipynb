{
 "cells": [
  {
   "cell_type": "code",
   "execution_count": 1,
   "metadata": {
    "collapsed": true
   },
   "outputs": [],
   "source": [
    "import spark_catalog\n",
    "import duckdb"
   ]
  },
  {
   "cell_type": "code",
   "execution_count": 2,
   "outputs": [
    {
     "name": "stdout",
     "output_type": "stream",
     "text": [
      ":: loading settings :: url = jar:file:/Users/timburns/Documents/PythonProjects/.pyenv/kexp/lib/python3.9/site-packages/pyspark/jars/ivy-2.5.1.jar!/org/apache/ivy/core/settings/ivysettings.xml\n"
     ]
    },
    {
     "name": "stderr",
     "output_type": "stream",
     "text": [
      "Ivy Default Cache set to: /Users/timburns/.ivy2/cache\n",
      "The jars for the packages stored in: /Users/timburns/.ivy2/jars\n",
      "io.delta#delta-core_2.12 added as a dependency\n",
      ":: resolving dependencies :: org.apache.spark#spark-submit-parent-35812e7f-2eeb-40d9-a3b8-a518f9e6485f;1.0\n",
      "\tconfs: [default]\n",
      "\tfound io.delta#delta-core_2.12;2.3.0 in central\n",
      "\tfound io.delta#delta-storage;2.3.0 in central\n",
      "\tfound org.antlr#antlr4-runtime;4.8 in central\n",
      ":: resolution report :: resolve 172ms :: artifacts dl 10ms\n",
      "\t:: modules in use:\n",
      "\tio.delta#delta-core_2.12;2.3.0 from central in [default]\n",
      "\tio.delta#delta-storage;2.3.0 from central in [default]\n",
      "\torg.antlr#antlr4-runtime;4.8 from central in [default]\n",
      "\t---------------------------------------------------------------------\n",
      "\t|                  |            modules            ||   artifacts   |\n",
      "\t|       conf       | number| search|dwnlded|evicted|| number|dwnlded|\n",
      "\t---------------------------------------------------------------------\n",
      "\t|      default     |   3   |   0   |   0   |   0   ||   3   |   0   |\n",
      "\t---------------------------------------------------------------------\n",
      ":: retrieving :: org.apache.spark#spark-submit-parent-35812e7f-2eeb-40d9-a3b8-a518f9e6485f\n",
      "\tconfs: [default]\n",
      "\t0 artifacts copied, 3 already retrieved (0kB/7ms)\n"
     ]
    },
    {
     "name": "stdout",
     "output_type": "stream",
     "text": [
      "23/04/10 12:07:54 WARN NativeCodeLoader: Unable to load native-hadoop library for your platform... using builtin-java classes where applicable\n"
     ]
    },
    {
     "name": "stderr",
     "output_type": "stream",
     "text": [
      "Setting default log level to \"WARN\".\n",
      "To adjust logging level use sc.setLogLevel(newLevel). For SparkR, use setLogLevel(newLevel).\n"
     ]
    },
    {
     "name": "stdout",
     "output_type": "stream",
     "text": [
      "23/04/10 12:07:55 WARN Utils: Service 'SparkUI' could not bind on port 4040. Attempting port 4041.\n"
     ]
    },
    {
     "name": "stderr",
     "output_type": "stream",
     "text": [
      "/Users/timburns/Documents/PythonProjects/.pyenv/kexp/lib/python3.9/site-packages/pyspark/sql/context.py:112: FutureWarning: Deprecated in 3.0.0. Use SparkSession.builder.getOrCreate() instead.\n",
      "  warnings.warn(\n"
     ]
    }
   ],
   "source": [
    "catalog = spark_catalog.SparkCatalog(app_name=\"kexp\", lake_location=\"../../../data/spark/kexp\")"
   ],
   "metadata": {
    "collapsed": false
   }
  },
  {
   "cell_type": "code",
   "execution_count": 3,
   "outputs": [
    {
     "name": "stderr",
     "output_type": "stream",
     "text": [
      "                                                                                \r"
     ]
    }
   ],
   "source": [
    "kexp_playlist = catalog.get_data_frame(\"bronze\", \"KEXP_PLAYLIST\")"
   ],
   "metadata": {
    "collapsed": false
   }
  },
  {
   "cell_type": "code",
   "execution_count": 4,
   "outputs": [
    {
     "name": "stdout",
     "output_type": "stream",
     "text": [
      "23/04/10 12:08:04 WARN package: Truncated the string representation of a plan since it was too large. This behavior can be adjusted by setting 'spark.sql.debug.maxToStringFields'.\n"
     ]
    },
    {
     "name": "stderr",
     "output_type": "stream",
     "text": [
      "[Stage 9:>                                                          (0 + 1) / 1]\r"
     ]
    },
    {
     "name": "stdout",
     "output_type": "stream",
     "text": [
      "+-------------------+--------------------+---------------+--------------------+------------------+-------+--------------------+-------+--------+----------+--------------------+--------------------+---------+------------+------------+----------------+----------+---------------+-----+--------------------+------------------+--------------------+--------+--------------------+\n",
      "|            airdate|               album|         artist|          artist_ids|           comment|     id|           image_uri|is_live|is_local|is_request|           label_ids|              labels|play_type|recording_id|release_date|release_group_id|release_id|rotation_status| show|            show_uri|              song|       thumbnail_uri|track_id|                 uri|\n",
      "+-------------------+--------------------+---------------+--------------------+------------------+-------+--------------------+-------+--------+----------+--------------------+--------------------+---------+------------+------------+----------------+----------+---------------+-----+--------------------+------------------+--------------------+--------+--------------------+\n",
      "|2023-04-10 12:02:50|Done by the Force...|Jungle Brothers|[ce3bc975-a76f-41...|Featuring Q-Tip :)|3178584|https://ia803201....|  false|   false|     false|[c595c289-47ce-4f...|[Warner Bros. Rec...|trackplay|        null|  1989-11-21|            null|      null|           null|56664|https://api.kexp....|Doin’ Our Own Dang|https://ia903201....|    null|https://api.kexp....|\n",
      "|2023-04-10 07:03:59|   Root Perspectives|    Whit Dickey|[bf9f8a16-61a1-40...|              null|3178504|                    |  false|   false|     false|[8f7fe285-43ee-48...|         [Tao Forms]|trackplay|        null|  2022-10-21|            null|      null|           null|56662|https://api.kexp....|         Supernova|                    |    null|https://api.kexp....|\n",
      "|2023-04-10 07:00:13|                null|           null|                null|                  |3178503|                    |   null|    null|      null|                null|                null| airbreak|        null|        null|            null|      null|           null|56662|https://api.kexp....|              null|                    |    null|https://api.kexp....|\n",
      "|2023-04-10 06:55:29|       Retrospective|  John Coltrane|[b625448e-bf4a-41...|              null|3178502|                    |  false|   false|     false|[93c3b044-2b4e-42...|          [impulse!]|trackplay|        null|        null|            null|      null|           null|56662|https://api.kexp....| Take The Coltrane|                    |    null|https://api.kexp....|\n",
      "+-------------------+--------------------+---------------+--------------------+------------------+-------+--------------------+-------+--------+----------+--------------------+--------------------+---------+------------+------------+----------------+----------+---------------+-----+--------------------+------------------+--------------------+--------+--------------------+\n",
      "\n"
     ]
    },
    {
     "name": "stderr",
     "output_type": "stream",
     "text": [
      "                                                                                \r"
     ]
    }
   ],
   "source": [
    "kexp_playlist.show()"
   ],
   "metadata": {
    "collapsed": false
   }
  },
  {
   "cell_type": "code",
   "execution_count": 5,
   "outputs": [
    {
     "name": "stdout",
     "output_type": "stream",
     "text": [
      "+----------+\n",
      "|play_count|\n",
      "+----------+\n",
      "|         4|\n",
      "+----------+\n",
      "\n"
     ]
    }
   ],
   "source": [
    "catalog.sql(\"select count(*) as play_count from KEXP_PLAYLIST\").show()"
   ],
   "metadata": {
    "collapsed": false
   }
  },
  {
   "cell_type": "code",
   "execution_count": 6,
   "outputs": [
    {
     "name": "stdout",
     "output_type": "stream",
     "text": [
      "+-------+-------------------+---------------+------------------+-----+\n",
      "|     id|            airdate|         artist|              song| show|\n",
      "+-------+-------------------+---------------+------------------+-----+\n",
      "|3178584|2023-04-10 12:02:50|Jungle Brothers|Doin’ Our Own Dang|56664|\n",
      "|3178504|2023-04-10 07:03:59|    Whit Dickey|         Supernova|56662|\n",
      "|3178503|2023-04-10 07:00:13|           null|              null|56662|\n",
      "|3178502|2023-04-10 06:55:29|  John Coltrane| Take The Coltrane|56662|\n",
      "+-------+-------------------+---------------+------------------+-----+\n",
      "\n"
     ]
    }
   ],
   "source": [
    "catalog.sql(\"select id, airdate, artist, song, show from KEXP_PLAYLIST order by id desc\").show()"
   ],
   "metadata": {
    "collapsed": false
   }
  },
  {
   "cell_type": "code",
   "execution_count": 7,
   "outputs": [
    {
     "name": "stdout",
     "output_type": "stream",
     "text": [
      "root\n",
      " |-- airdate: timestamp (nullable = true)\n",
      " |-- album: string (nullable = true)\n",
      " |-- artist: string (nullable = true)\n",
      " |-- artist_ids: array (nullable = true)\n",
      " |    |-- element: string (containsNull = true)\n",
      " |-- comment: string (nullable = true)\n",
      " |-- id: integer (nullable = true)\n",
      " |-- image_uri: string (nullable = true)\n",
      " |-- is_live: boolean (nullable = true)\n",
      " |-- is_local: boolean (nullable = true)\n",
      " |-- is_request: boolean (nullable = true)\n",
      " |-- label_ids: array (nullable = true)\n",
      " |    |-- element: string (containsNull = true)\n",
      " |-- labels: array (nullable = true)\n",
      " |    |-- element: string (containsNull = true)\n",
      " |-- play_type: string (nullable = true)\n",
      " |-- recording_id: integer (nullable = true)\n",
      " |-- release_date: date (nullable = true)\n",
      " |-- release_group_id: integer (nullable = true)\n",
      " |-- release_id: integer (nullable = true)\n",
      " |-- rotation_status: string (nullable = true)\n",
      " |-- show: integer (nullable = true)\n",
      " |-- show_uri: string (nullable = true)\n",
      " |-- song: string (nullable = true)\n",
      " |-- thumbnail_uri: string (nullable = true)\n",
      " |-- track_id: integer (nullable = true)\n",
      " |-- uri: string (nullable = true)\n",
      "\n"
     ]
    }
   ],
   "source": [
    "catalog.get_data_frame(\"bronze\", \"KEXP_PLAYLIST\").printSchema()"
   ],
   "metadata": {
    "collapsed": false
   }
  },
  {
   "cell_type": "code",
   "execution_count": 7,
   "outputs": [],
   "source": [],
   "metadata": {
    "collapsed": false
   }
  }
 ],
 "metadata": {
  "kernelspec": {
   "display_name": "Python 3",
   "language": "python",
   "name": "python3"
  },
  "language_info": {
   "codemirror_mode": {
    "name": "ipython",
    "version": 2
   },
   "file_extension": ".py",
   "mimetype": "text/x-python",
   "name": "python",
   "nbconvert_exporter": "python",
   "pygments_lexer": "ipython2",
   "version": "2.7.6"
  }
 },
 "nbformat": 4,
 "nbformat_minor": 0
}
